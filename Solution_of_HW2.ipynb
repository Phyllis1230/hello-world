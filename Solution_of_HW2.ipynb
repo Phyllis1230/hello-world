{
  "nbformat": 4,
  "nbformat_minor": 0,
  "metadata": {
    "colab": {
      "name": "Solution of HW2.ipynb",
      "provenance": [],
      "collapsed_sections": [],
      "include_colab_link": true
    },
    "kernelspec": {
      "name": "python3",
      "display_name": "Python 3"
    }
  },
  "cells": [
    {
      "cell_type": "markdown",
      "metadata": {
        "id": "view-in-github",
        "colab_type": "text"
      },
      "source": [
        "<a href=\"https://colab.research.google.com/github/Phyllis1230/hello-world/blob/master/Solution_of_HW2.ipynb\" target=\"_parent\"><img src=\"https://colab.research.google.com/assets/colab-badge.svg\" alt=\"Open In Colab\"/></a>"
      ]
    },
    {
      "cell_type": "markdown",
      "metadata": {
        "id": "rvObaKKCzGwK"
      },
      "source": [
        "# **Homework 2**\n",
        "##**Group Parmigiana**    \n",
        "##Bob Wang, George Saito, Emilia Liu, Phyllis Guo, Yijun Shen, Rose Feng\n"
      ]
    },
    {
      "cell_type": "markdown",
      "metadata": {
        "id": "RqhpdagcQ28W"
      },
      "source": [
        "# Question 1\n",
        "\n",
        "\n",
        "\n"
      ]
    },
    {
      "cell_type": "markdown",
      "metadata": {
        "id": "oRFvCEtDdjJF"
      },
      "source": [
        "The first thing we need to do is use the request module, which lets us to connect to databases online:"
      ]
    },
    {
      "cell_type": "code",
      "metadata": {
        "id": "prQwqCNldt3V"
      },
      "source": [
        "import requests"
      ],
      "execution_count": null,
      "outputs": []
    },
    {
      "cell_type": "markdown",
      "metadata": {
        "id": "BnaY9s-6eJ0V"
      },
      "source": [
        "###Q-1 What is the numericCode for the country of Peru?"
      ]
    },
    {
      "cell_type": "markdown",
      "metadata": {
        "id": "223-XMsplaSl"
      },
      "source": [
        "Get the data from the URL (https://restcountries.eu/rest/v2/alpha/per) and save the data as \"peru\". Then we run the command \"peru['numericCode'] to narrow down the data, allowing it to display the numeric code information only"
      ]
    },
    {
      "cell_type": "code",
      "metadata": {
        "id": "yzpBAtFQjLj1",
        "outputId": "91d3ece7-a7a4-4c11-8ae1-cdb414916a6d",
        "colab": {
          "base_uri": "https://localhost:8080/",
          "height": 35
        }
      },
      "source": [
        "res=requests.get('https://restcountries.eu/rest/v2/alpha/per')\n",
        "peru=res.json()\n",
        "peru['numericCode']"
      ],
      "execution_count": null,
      "outputs": [
        {
          "output_type": "execute_result",
          "data": {
            "application/vnd.google.colaboratory.intrinsic+json": {
              "type": "string"
            },
            "text/plain": [
              "'604'"
            ]
          },
          "metadata": {
            "tags": []
          },
          "execution_count": 98
        }
      ]
    },
    {
      "cell_type": "markdown",
      "metadata": {
        "id": "oJVT7bH2jpjt"
      },
      "source": [
        "The numericCode for the country of Peru is 604"
      ]
    },
    {
      "cell_type": "markdown",
      "metadata": {
        "id": "F8lSRQ-pjyTt"
      },
      "source": [
        "###Q-2 Copy and paste the list of the three letter country codes of the countries that border Peru. Do not include the square brackets. "
      ]
    },
    {
      "cell_type": "markdown",
      "metadata": {
        "id": "7FkvnizwnsFD"
      },
      "source": [
        "Obtain the list of three letter country codes by narrowing down the dictionary:"
      ]
    },
    {
      "cell_type": "code",
      "metadata": {
        "id": "tygVQOw9j7aJ",
        "outputId": "5787d9e4-5291-48bb-887f-c52e8ce561b2",
        "colab": {
          "base_uri": "https://localhost:8080/",
          "height": 34
        }
      },
      "source": [
        "peru['borders']"
      ],
      "execution_count": null,
      "outputs": [
        {
          "output_type": "execute_result",
          "data": {
            "text/plain": [
              "['BOL', 'BRA', 'CHL', 'COL', 'ECU']"
            ]
          },
          "metadata": {
            "tags": []
          },
          "execution_count": 99
        }
      ]
    },
    {
      "cell_type": "markdown",
      "metadata": {
        "id": "mznESaQMkEP6"
      },
      "source": [
        "The list of the three letter country codes of the countries that border Peru is: 'BOL', 'BRA', 'CHL', 'COL', 'ECU'"
      ]
    },
    {
      "cell_type": "markdown",
      "metadata": {
        "id": "LqlftPqzkN-x"
      },
      "source": [
        "###Q-3 How many keys are in the dictionary returned for the country of Peru?"
      ]
    },
    {
      "cell_type": "markdown",
      "metadata": {
        "id": "nA6BhdDFn3IQ"
      },
      "source": [
        "We can use the len() command here to counnt the number of keys in the dictionary"
      ]
    },
    {
      "cell_type": "code",
      "metadata": {
        "id": "LWGav3TZkT2G",
        "outputId": "ae40a8f6-c2c1-487b-ceb7-b775e03cba86",
        "colab": {
          "base_uri": "https://localhost:8080/",
          "height": 34
        }
      },
      "source": [
        "len(peru.keys())"
      ],
      "execution_count": null,
      "outputs": [
        {
          "output_type": "execute_result",
          "data": {
            "text/plain": [
              "24"
            ]
          },
          "metadata": {
            "tags": []
          },
          "execution_count": 100
        }
      ]
    },
    {
      "cell_type": "markdown",
      "metadata": {
        "id": "WtjoYspPkaAt"
      },
      "source": [
        "There are 24 keys in the dictionary returned for the country of Peru."
      ]
    },
    {
      "cell_type": "markdown",
      "metadata": {
        "id": "7Wj3r0m90AZu"
      },
      "source": [
        "# Question 2\n",
        "\n",
        "\n"
      ]
    },
    {
      "cell_type": "markdown",
      "metadata": {
        "id": "x8Z6TnA1bjEk"
      },
      "source": [
        "1. What is the numericCode for the country of Algeria?"
      ]
    },
    {
      "cell_type": "code",
      "metadata": {
        "id": "Xxusha7WY8KF",
        "outputId": "69307431-33a6-4088-80a6-5bfedf787103",
        "colab": {
          "base_uri": "https://localhost:8080/",
          "height": 34
        }
      },
      "source": [
        "algeria = requests.get('https://restcountries.eu/rest/v2/alpha/dza')\n",
        "algeria.status_code\n",
        "algeria_info = algeria.json()\n",
        "print(\"The numericCode for Algeria is: \", algeria_info['numericCode'])"
      ],
      "execution_count": null,
      "outputs": [
        {
          "output_type": "stream",
          "text": [
            "The numericCode for Algeria is:  012\n"
          ],
          "name": "stdout"
        }
      ]
    },
    {
      "cell_type": "markdown",
      "metadata": {
        "id": "qf-W5lIwbkuF"
      },
      "source": [
        "2. Copy and paste the list of the three letter country codes of the countries"
      ]
    },
    {
      "cell_type": "code",
      "metadata": {
        "id": "PMshBVkvZWUg",
        "outputId": "7f173b72-16c4-4c4b-974d-3057b6237fe5",
        "colab": {
          "base_uri": "https://localhost:8080/",
          "height": 34
        }
      },
      "source": [
        "algeria_info['borders']"
      ],
      "execution_count": null,
      "outputs": [
        {
          "output_type": "execute_result",
          "data": {
            "text/plain": [
              "['TUN', 'LBY', 'NER', 'ESH', 'MRT', 'MLI', 'MAR']"
            ]
          },
          "metadata": {
            "tags": []
          },
          "execution_count": 6
        }
      ]
    },
    {
      "cell_type": "markdown",
      "metadata": {
        "id": "RmcXTr3cv0lq"
      },
      "source": [
        "Ans: 'TUN', 'LBY', 'NER', 'ESH', 'MRT', 'MLI', 'MAR'"
      ]
    },
    {
      "cell_type": "markdown",
      "metadata": {
        "id": "mFOdqsQibmNi"
      },
      "source": [
        "3. What is the ratio\n",
        "\n",
        "$$\\text{population}/\\text{area}$$\n",
        "\n",
        "in Turkey according to the data provided by the API?"
      ]
    },
    {
      "cell_type": "code",
      "metadata": {
        "id": "3aIHPkExZdbR",
        "outputId": "d4a5c496-7462-4815-bf99-d28cc3afa972",
        "colab": {
          "base_uri": "https://localhost:8080/",
          "height": 34
        }
      },
      "source": [
        "turkey = requests.get('https://restcountries.eu/rest/v2/alpha/tur')\n",
        "turkey.status_code\n",
        "tur_info = turkey.json()\n",
        "ratio = round(tur_info['population']/tur_info['area'], 2)\n",
        "print(\"The ratio in Turkey is: \", ratio)"
      ],
      "execution_count": null,
      "outputs": [
        {
          "output_type": "stream",
          "text": [
            "The ratio in Turkey is:  100.49\n"
          ],
          "name": "stdout"
        }
      ]
    },
    {
      "cell_type": "markdown",
      "metadata": {
        "id": "BoMZy46jbncs"
      },
      "source": [
        "4. Which country has the smallest such ratio, which the largest? What is the most dense country a member of your group has visited? Least dense? Tell us about it and include pictures and links to give us a sense of the place."
      ]
    },
    {
      "cell_type": "code",
      "metadata": {
        "id": "NxTthT_eboRC",
        "outputId": "8ca85da7-7922-45d0-a692-7db900d79ed5",
        "colab": {
          "base_uri": "https://localhost:8080/",
          "height": 51
        }
      },
      "source": [
        "all = requests.get('https://restcountries.eu/rest/v2/all')\n",
        "if (all.status_code == 200):\n",
        "  all_info = all.json()\n",
        "  max = 0\n",
        "  max_index = 0\n",
        "  for i in range(len(all_info)):\n",
        "    if (all_info[i]['area'] == None):\n",
        "      continue\n",
        "    ratio = all_info[i]['population']/all_info[i]['area']\n",
        "    if (ratio >= max):\n",
        "      max = ratio\n",
        "      max_index = i\n",
        "  print(all_info[max_index]['name'], \" has maximum ratio of: \", round(max, 2))\n",
        "\n",
        "  min = max\n",
        "  min_index = max_index\n",
        "  for i in range(len(all_info)):\n",
        "    if (all_info[i]['area'] == None):\n",
        "      continue\n",
        "    ratio = all_info[i]['population']/all_info[i]['area']\n",
        "    if (ratio <= min):\n",
        "      min = ratio\n",
        "      min_index = i\n",
        "  print(all_info[min_index]['name'], \" has minimum ratio of: \", round(min, 2))"
      ],
      "execution_count": null,
      "outputs": [
        {
          "output_type": "stream",
          "text": [
            "Macao  has maximum ratio of:  21636.67\n",
            "Heard Island and McDonald Islands  has minimum ratio of:  0.0\n"
          ],
          "name": "stdout"
        }
      ]
    },
    {
      "cell_type": "code",
      "metadata": {
        "id": "WykPDQVYfFur",
        "outputId": "6fc58cd6-d5f8-46b6-cdc9-efa248473c1c",
        "colab": {
          "base_uri": "https://localhost:8080/",
          "height": 51
        }
      },
      "source": [
        "travel_list = ['JPN','CAN','FRA','DER','DNK','ITA']\n",
        "if (all.status_code == 200):\n",
        "  max = 0\n",
        "  max_index = 0\n",
        "  for i in range(len(all_info)):\n",
        "    if (all_info[i]['alpha3Code'] in travel_list):\n",
        "      ratio = all_info[i]['population']/all_info[i]['area']\n",
        "      if (ratio >= max):\n",
        "        max = ratio\n",
        "        max_index = i\n",
        "  print(all_info[max_index]['name'], \" is the most dense country that has maximum ratio of: \", round(max, 2), \"among the countries we've been to.\")\n",
        "  min = max\n",
        "  min_index = max_index\n",
        "  for i in range(len(all_info)):\n",
        "    if (all_info[i]['alpha3Code'] in travel_list):\n",
        "      ratio = all_info[i]['population']/all_info[i]['area']\n",
        "      if (ratio <= min):\n",
        "        min = ratio\n",
        "        min_index = i\n",
        "  print(all_info[min_index]['name'], \" is the least dense country that has minimum ratio of: \", round(min, 2), \"among the countries we've been to.\")\n"
      ],
      "execution_count": null,
      "outputs": [
        {
          "output_type": "stream",
          "text": [
            "Japan  is the most dense country that has maximum ratio of:  335.94 among the countries we've been to.\n",
            "Canada  is the least dense country that has minimum ratio of:  3.62 among the countries we've been to.\n"
          ],
          "name": "stdout"
        }
      ]
    },
    {
      "cell_type": "markdown",
      "metadata": {
        "id": "Fv61ykPfrh0B"
      },
      "source": [
        "Japan is an island country of East Asia in the northwest Pacific Ocean.\n",
        "Japan is the eleventh-most populous country in the world, as well as one of the most densely populated and urbanized. Japan has one of the richest cultures in the world, and is renowned for its art, cuisine, music, and popular culture, including its prominent animation and video game industries.\n",
        "![japan](https://www.theinvisibletourist.com/wp-content/uploads/2017/04/featured_85.jpg)\n",
        "\n",
        "Canada is a country in the northern part of North America. Its ten provinces and three territories extend from the Atlantic to the Pacific and northward into the Arctic Ocean, covering 9.98 million square kilometres (3.85 million square miles), making it the world's second-largest country by total area. Its southern and western border with the United States, stretching 8,891 kilometres (5,525 mi), is the world's longest bi-national land border. Canada's capital is Ottawa, and its three largest metropolitan areas are Toronto, Montreal, and Vancouver.\n",
        "![canada](https://reloadvisor.org/wp-content/uploads/2019/10/Canada-ReloAdvisor.org_.jpg)"
      ]
    },
    {
      "cell_type": "markdown",
      "metadata": {
        "id": "l14k8CszfiSn"
      },
      "source": [
        "5. I am thinking of a country. Its name starts with the same letter that your group name starts with. Among all such countries, it has the greatest number of borders. Which country a|m I thinking of?"
      ]
    },
    {
      "cell_type": "code",
      "metadata": {
        "id": "J6oXBXs2nsNZ",
        "outputId": "ab93f239-cc8a-46ee-bfb5-9820f98986ee",
        "colab": {
          "base_uri": "https://localhost:8080/",
          "height": 34
        }
      },
      "source": [
        "if (all.status_code == 200):\n",
        "  p_countries = []\n",
        "  max_borders = 0\n",
        "  max_borders_index = 0\n",
        "  for i in range(len(all_info)):\n",
        "    if (all_info[i]['name'].startswith('P')):\n",
        "      p_countries.append(all_info[i]['name'])\n",
        "      num_borders = len(all_info[i]['borders'])\n",
        "      if (num_borders >= max_borders):\n",
        "        max_borders = num_borders\n",
        "        max_borders_index = i\n",
        "  print(all_info[max_borders_index]['name'], \" is the country you are thinking of.\")  "
      ],
      "execution_count": null,
      "outputs": [
        {
          "output_type": "stream",
          "text": [
            "Poland  is the country you are thinking of.\n"
          ],
          "name": "stdout"
        }
      ]
    },
    {
      "cell_type": "markdown",
      "metadata": {
        "id": "YMHPjghx-w9f"
      },
      "source": [
        "# Question 3\n"
      ]
    },
    {
      "cell_type": "markdown",
      "metadata": {
        "id": "5f6OGWjCwsBs"
      },
      "source": [
        "**Why these two classics?**\n",
        "\n",
        "We choose *Alice's Adventures in Wonderland* by Lewis Carroll and *Pride and Prejudice* by Jane Austen as our classics because these two books are the group's top 2 favorite books. In addition, the two novels have different genres and are written for difference audience. *Alice's Adventures in Wonderland* is a story for children that happens in a fantasy world, while *Pride and Prejudice* depicts a love story in Britain in the 19th century. We think there will be some differences and contrasts to explore between these two books."
      ]
    },
    {
      "cell_type": "markdown",
      "metadata": {
        "id": "Mr4KewmWwXpW"
      },
      "source": [
        "[[ **Alice's Adventures in Wonderland** ](https://www.gutenberg.org/files/11/11-h/11-h.htm)] by Lewis Carroll\n",
        "\n",
        "This book tells a girl named Alice falling through a rabbit hole into a fantacy world populated by peculiar anthropomorphic creatures. The tale plays with logic, giving the story lasting popularity with adult as well as with children.\n",
        "\n",
        "\n",
        "![316.jpeg](data:image/jpeg;base64,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)"
      ]
    },
    {
      "cell_type": "markdown",
      "metadata": {
        "id": "iLAxZKYtwg75"
      },
      "source": [
        "[[ **Pride and Prejudice** ](https://www.gutenberg.org/files/1342/1342-h/1342-h.htm)] by Jane Austen\n",
        "\n",
        "This book follows the character development of Elizabeth Bennet, the dynamic protagonist of the book who learns about the repercussions of hasty judgments and comes to appreciate the difference between superficial goodness and actual goodness. Its humour lies in its honest depiction of manners, education, marriage, and money during the Regency era in Great Britain.\n",
        "\n",
        "\n",
        "\n",
        "![854.jpeg](data:image/jpeg;base64,/9j/4AAQSkZJRgABAQAAAQABAAD/2wCEAAkGBxMSEhUTEhIWFhUWGBUVFRcVFxcVFxUXFRUXFxUVFRUYHSggGBolHRUVITEhJSkrLi4uFx8zODMtNygtLisBCgoKDg0OGhAQGy0lHyUtLS0tLS0tKy0vLS0tLS0tLS0tLS0tLS0tLy0tLS0tLS0tLS0tLS0tLS0tLS0tLS0tLf/AABEIARIAuAMBIgACEQEDEQH/xAAcAAAABwEBAAAAAAAAAAAAAAAAAQIDBAUGBwj/xABCEAACAQIEAwUDCgQGAQUBAAABAhEAAwQSITEFQVEGEyJhcTKBkQcUQlKSobHB0fAjU2PhFRYzQ2KCcpOjwtLxJP/EABoBAAMBAQEBAAAAAAAAAAAAAAABAgMEBQb/xAAsEQACAgICAgECBAcBAAAAAAAAAQIRAxIhURMxBEFhFIHw8SJSYnGRoeFC/9oADAMBAAIRAxEAPwDrQNLU02KUprzUzceFHTYajzVdiHAaVTWajzVakIcoUjNR5qewC6Kk5qItRsAqhSC1CaWwDHE8cti21xzAUTXEOK46/wARxTeIqi6zuttNMzEczyjmR0rY/LPxVrWGVV+k2vwNYfALGBAkqHg3WHtER4ban6xHi/7DmRGMm/f5I7fjxSV/VlNisOpvMtti1tPEWMgvzBPrr7iOtJ+Y53CRoILnq25H76ipisWRsojMy9442U5lGW39aIAnbQCrfC4QIQANNQOfKSxPMmSae1I6asr7/Cf4bFRqPEPONR+lUzYHcqMwMHL5EcvPQ/Ct+bHhis0cNkd1iAPF/wBWn8CD7jSjNiqzMXsEG9mekdCP2fhVXiLEGDofPStpj8LlAvLurKXHUAgEj3U7xngq3F0G+oP79a2jlozlCzAG2ev5j+1Gl9l6Eeg/WlYmw1to+B60hcR1WfTetzlfBYYLHoNCgAOhymPeQPx/ChUJLYbVfeOnnQqXFGik6+h63BpQNGLVKFuuFHOFNHR5KPJVJiCBo5pJoA1SAXNCaKaGamIVNCgGoNcAEkwKLABFCmLfEbTaB1JHKRNScwoTT9Dao5n8t/DmuYRLiicjeLynY/eaxt3g918JhlXxIwFxsu5LACD0WAfw5V3Pi2CS/Ze04kOpX0kb1z7s7aGEw7WrzKGVyiLOvhnMROw1X76iTa/ydWGf8P8AYo04Me5KwAYERyjYeW1DBNmQT7Qgmeq+F/uH31dYrFAIWFc84m9645YEqpOoBgbROlRFbHTbNscQg9px8ar7mV7pymYUSRtrm0+776o8Gli0p7yXc7Sd55AA6VMwVm0ozie8Y6ZWO/JR1AHM9KbikCsJgJazynN/0EEj46e+pPCPFZyt9CVnpABA+BimMXhSHD7k+Fj5HQAeWvxqy4LhwVdh9K4x+Cqp+9TSb4AxHajhjKZ3B1/v5Gsm1dJ7WWiRE8pHn6Vz2/bgkV2YJXE580RtWIIZffyoUgSPShW1GKdfU9fWsVm2p0XaoMDicu9XFp5E15sHsRJUP97Qz+dVuLxBBgU0MS1PdINS3mhTVhpFOyK1RIc0dFpR06ENYq+ERnYwFBJriXGOOYriV98txreGQkDKSuaOfrXXO1lgvg8QqmCbbQdthO9cK4Vdvphl7tdGZtd9JqWjowpMPi/DDZUPZds2xhjJ85FdD+SDtM19Gw91izpqpYycvMH0rAYjEXgy6A6a6Tqae+T261viyAAjNmBA6FZNUlxyaZYqjv5YVzf5UOFI1y3dJYEggZebAjYASWiPhW8Zqz/bHhD4u0qozAoWICMULErl0MgDQnfrWcmYYnUjG8LcurWzMqM3ikEiQCdfUVU8Uwz+LIJMaetaDszge6w2dgQ7fw/ESSe79t9TpLiI/wCFLXDyfWoa1Z3JmB4L3hFwMACIy/wwQ+pnMTt6zzq/4Rw24SWfKCdsqwAOlXw4OsyQKfCKugpynY0NNgQVynWabwVjuxl2/P8AvUoXaK49ZDKbj2Ez29IkaiRMelYS5w2WOYa/pzFdJvrINVeKwVvIzPsNZ6dI861x5NeCdUzmGMw+ViBtQrU2+CXWElMwI0LaSPUfpR11+WP1IeF3wdkSp1nGECKhKKcArzoujnaseuXc1BKbAo1anYibbxRURSWxBNQ2ak56rcWpaYfEmdanm6OtZw3TSTePWms1CcC94gyG0+f2cpn0iuG2r4VGVA0BmCzvE6V03iXHreGts95wFg6c28gOZrl/EXuXCbsFC5Lqp+ip9kfCtIvbk1wqhjDYoiSxY9JjT4VO7DcNe7jfnKNl7smfhEeczVIiXHMMa6D8nwsqHRfDeGrA7sp2YdRVzdJ0XN8G6+cU9hr2uu258utQIp+xcAIMf3rBSOejN8W4jbd4QjKPZEjr+Zk++q4XGXUxFQu0fBTnu92WCqZYKcpUFo8B6ajSmuH8LygAtcYbwzFviTQ+eT0IqNcF2MTIqLcuzTpAptlqRqhCGnSaQBSjSAJl0qvxQDEKQCNDDajQyPvqa71V4m3LTNAkPcQ4kEU6ZmA9w9aFQMXhvAfShWsEq5Bvo6Wq0qlCktXOcIJpBpYFCKOQsRREUuKAWkOxphWb7QdrbOHU5TncchtPmab7ecUe2q27bQWBLRvHSubYi3n0Nb4sSlywsi8U4pcxNzPeYnXQclBOyiui8XwwvKmItghSoQqdxl0BjpFYK1w8aGu58Jwtu5ZtsAIZB7tK6Z80ogp6uzl9jAmTVvxTh9u1gBiDc7rEpJtMp8TAt7EcwakrhStxhOxIj31qeNcAW7hTbKgsEEHnIGlYxk2y8slwYDs/2/xAYC8vepzIEOPMRoa6jhbq3EV0MhgCPf1ri1qxBjYitp8nvECLrWidGGgPIilkS9ozfose3mNfDWu8twO8IVzAJGQab9d/+tY/DX8SVzm4FBEgE5mIPkK6fx3D57Ri0l0rLKlwAqxylTodJhiRPMCuY2czGFtLaXooA/CiLWp1/HlcBWCxGLdxouWfEW0MdQBz8q0Cv1pnCpA2px9KiTst+w7lRnvUV6+BVddxBJgUkMm9/SDbpvDW41O9SlNIQ3dtysUdPGhQmBuDSDQLUmaR54sUdJBo6ADoRSSaJ3gE9ATRQHOO297PfbosL+tZYDX0q24pdzszHmSfvqttjT3V14+IlD+HE11PsFiM2FyH6DEe46j8a5ZbECRW3+T/ABerqNiAaG6dkz9F5iuFn5yrgeBtW9RWjBkGedMpc0OlJVyalUjNybOS8asZL9wDk7fjNN8Bx3d3lfowJ9OdO8fvZr909WI/KqfBnxGhK4myO8I4MHkYNZHiZtI5UACCdetXfZvEd5hrbHfLB92lVXaHs095y9m4qk+0rgxPUEfhFYjwyUZclNdxiiq/FcRHWrzC9iC3+piT6In5k/lQ4j2Js27TuLt0sokSUiZA1GWefWjg6fNC6Rk3vFudPYdagZWUxFWODaabRqT7Nun2txS8ORTlysySMKFG4ihQBqUxIk08LwrLjFc5qwsYnMtRyjiaLdL4mne9FVFhjNSFelsySZ3wqFx3FZcPcI+qR8dKSX10NVPau9GHI6kD86cZW0hmDxT+Gm8Nt8KLGnShhD4a7/oMlDatF2EU9+SNguvxEVnJ0rbfJ3h9Hf62g93/AO1D9Cl6Nr1o7Yp0WjAod3EmnqYHIO0tsLibg8/xqntHxmrvtfby4iT7TSSOmulUBaHn0oh6OhejpvYjG/wCv1T9xq5OJJNY7sXcnOo30itrawGQZr7Zf+I9s+v1ffr5VySUnJpEtcisI5JyqCT0FN9o2yWSCwLEgEAyANTqeZ05Uxj+NQClpQic43b/AMm3NUWPxZZQPMn8vyqkkjfHhdqTKO9Z12poCNQKmxSGSnZ1C7FypRNQleKkLcmkSKuHShQO1CkBV/OOVTsBizVH3utTLNytJR4OQ0OExWpNSrWJBnWqGzeoDFZaxcBUaGyuu9VHbFpRB/y/KkYLiJnWme0+IzW09T+FEItTQq5MbxA7CpeKt5Dl8l+MCai4n2l8iv409jb+e4zdWNd3QCmeFrQ9mu1i4de7NosNdQY3rOMQBrSLKyfU6flSpBVm0v8AbrElv4QVF6N4j8aZvds8YwILIJ6LtWet3LYYq7MMphyihgp+qWLAFvIT5kVZnH8PsrmD3b90RCsot2c0jRgCWYDoDrHnSplLF9ipGCxOJu+BLl1idwCR5y2yjzJAq3ucKw2GE4km7e/lIxFsQRAZlEsddYIAnc07j/lLeO7sWlRI1jL4tNZUr+Z3rDcS4qLjbSdZPmdyANuQrRQbNYwS9nXux/HLBtFrFi1acyGNuSYnwgFiSukc9al4nEFt9a538m+IGe5bmNiJ5wSp/wDj8a6DcSufKmnRSjFO0V+JqDcqyurUK4vlWSNbIsUhgafyUAlAEJyaVh2O1SLlmitW4NAEkrpRVINuTFCgkx6GpVv1q3TsdivqL9tacXsjivqL9ta2ZyWiutNFJuGZq5HZbFfVX7a05/lfEclX7S1nTCzO25FOcQ8SehFXa9lsSPoL9taD9lsSVIyr9tadO7C0YLFppQw6aCtXd7E4sj2F+2tItdiMYABkT7a10XwSZ5lqQENu2BBW4wmdjbQ9OjsD7gep00uD7HYkNme2hCgkLnUhmHsg+U6nyBHOq/HdjOIOWYIpLTqbi86S5NcevtmMxmIGiLoq7Ac/M1U3WOY6+em23Stqvyc8Q527evPvVqO3yZcRme7t/wDqrXQpRX1KlNMyLPoD1pu42o8tT79fwArZL8mXEIju7f8A6q0l/kw4iSf4dvX+qtPePZLkir7H4nJirevtZl951/FRXWu8MVz/AA/yccSRkcJblGDD+KvIzFdNs8JuwJUfEVzZ0m7RcZorrjU08Vatwe79UfaFMPwK6foj7Qrn1ZoskeyuFvzp1FFShwK/0H2hSl4LfHIfaFGrDePZX3LcnSkPagTVwOC3Y2HxFE/BbpEQPiKWrDePZXXX6UKshwW79UfEUKKYbx7NNQoUK6DiBRVR4rtPbt3blk2r5e2nePlQMBbmO8ENJX018qT/AJssl7aW7d66bqG7aNtFIdAASVLMNpgg6zRTAvqOq7hnGLWItG7ZzOFLKyZctwOntWyrxDeR61Cs9qrT4e5iVt3u6tkhzlUHwTnIXPJCxr6iJ1gpgX1CqH/NdkIly4l61auZSt25bi344ylmUnIDI1aKW3aRO+ewLF9riAOQqKwyEwrgh4g8udOmBdMwAkmBzJ0FBSCJBkHYjUVl+N4i3cbBXbxC4Zi7NbvQhzsgNo3LZOoBBBGsFhPOrDiWJSxhbl7Dd0PDmUyBbJ2kQQpMTtuQKVF68L7k6xjgy5j1ywJJzCTEROwn96q+erBJnwyTAYwAzL06o3wrP8L7SYa4LRdGXvWNq1cNvLbuOjsAgYE5WJzQDGpIE0b9qMNF4th7wWy2W+xtAi2ZLeMKxYjxEyAdzRTJapmguYmLgTSSJBJidTI9YBP7JomxyCddpmQRtnnl/Tf4elROKcQs27HzhkNy1lVyyBWhB41fUiVGh0k6iolrilu6AFw2IHeIzo3dqMwidGLRmPeEgGJzHzopgWbY9QTMwBI0MyDczD/2zSlxg1zToTMAmACQC3T2T8KoLPaTDHCHF91dawCQXKAmJZCcpfNlBZl8s3STVjj8fbt4c4h7NwJlJeFUuqGSWZc2o3PM+LbeimBbqZE0dUmL7SJauWrTWb/eXgxtKFQlsglxo8AgRM0adpbJNxMt0Xba941lkyXSkwXQMQrqNdVJ2opiLqhVLhu01l7Nu8Bci6ctlcs3LxiZtopJjeSYiCTA1pVvj4z92+GxCXCrMiMqHvAsZsjq5SQDMFgaKYFxRVRcM7U2sQtu5as3zbuNkW53YyTmKyxzaAEETV9Q0AKKjoqADoUKFAGJxFtrnF76W7y2y2DRWOUO0G4ZCSwCsJBkhvSo3EMCbGNwWHwbojW8LfW33o7ydiAwDLqxnX105VtlwFoNnFq2HktmCLmk7nNEyZOvnRXcFZzZ2t28xIOYoubMNjmImRH3VWwGf+T3E2jYZdVxAuO+MR4Di+5l3IEQpjwkaQI3Bqk4VdX/AATG+Ib43mObNHxrc4jA2LjK72rTtBCsyKzQwggMRMEGPfQPDrAEdzaAJWRkSCRIXlqfEQPXzo2AzWLx9n/CFtlldrmFS1btqQz3LjWQFVVGpMwfKCeVVPCsM6Yw2TixZupgMNbZx3b+NdCP4gMwYOkGt7hsLZQhrdu2pbYoiiRvuo2pB4bh2k9xaMkkk20MknUnTUzRsBQdmrqXsbirjN3joLaWmI2tgEM1ueTMNx16GpK8JBNq/im7y8WBCt/pWpUlktodPCJOY6krPlVhieEWXZWWbdy2MqtaORlU65CBoV/4kEU8uCtic5Nw5YY3YbwnUjLGUA5dYAmBO1KzVz6MV2A4QMTgsK126Gt2b1y9btqoH8RbtzKbjySwBYkABdxM1AxzXj/ihtMHs/OFGItooN5rJRRdNpyYByyIynmZ0rpGGs2kB7tUUMdciqsnYTA1oWcFZtnMlq2hAiVRVIGhIkDbQfCntyZlBx7E2H4TebDsps/N2W3lOkBIVfIiIg60vstiAqYcNjBc7yzbVLUW/CVt52INsTAUEeLoNZOtuvCsPLEWLMuQzHu08RWQC2mpEtqeppjEcMtspFju7LMCpuW7ad4EZfEEP0WgrqQQOlK16AxHB8M1zs0VRSWKXiANSQuIZjA56Ka0HGeLWL/DWFq6jNftC1aUMCzXLihQmXfNJ1HKDO1aLh+Gt2LS2rQC27ShQJmAo5nmec+dJtcNsJcNxbNpbjaF1RQ59WAk86bkBm+095V4pwvMwEfPJkgRNlQJnqaa7Sul/GYc2WDfNreKe+6mVtpcs5Utsw0zMdl3iTWqu4KxcJLWrTtsSyKx00gkjy+6nPmlvJ3fdpk+plXLvI8MRvFKwOb9lsSLLcNv3WAsNhHw6ufYt3jdzEO2ylgANenlXQL/ABKwt21bZlNxszJqpKKqEtcOvhWPDPVgOtODD2VVkCWwrHxKFUKxgbrEExH3U3heD4ZFIt4eyqv7QW2ihhuMwA15b0NpiMX8mt8JgcKzYwKue4psEWzmNy66IoIGeSzq3P4bdDqInDbCkMLNoEagi2gIPUEDSpdEnbAFFR0KQAoVl17Uuf8AaX7R/SpFvtAx/wBsfaP6VDmkaeORoKRcthhBEjeqpOMMfoD4mn04iT9EfGp8sOxaMeuYNAGhZMHmxnTQb+QpC2tx3UA7nNPsiRPv6etLXFk/RFOC8elLzQ7FqyH83OxtdNmOwUDeev3CnrGGB1NvKQQRJJ5eXr+PlUoE9KGY9KflgFMiC1mIL2tdJM89tvIAfuaaXDkf7XSYYxBTxCJ6lh7/AH1YyelEWPSqUkxckDuf6O+8t1/uB+5h42SoAVBBEPqZ5Aa+9uXKnWukcqbbFkfRq1GxOQw9rUk2ev0jOp1OnWZ+NLOHMKBbAEyQWJKnQAzPTp086Bxx+qPjRfP2+oPjVLFJk+RCUw/Wz0E5jsNtPKAKWLMElbRBEkEkmTttP7mgMc31R8aHz5vqj41Xgn0LyxCNnMTNqOYlifETqdD6fCkth9I7naQDmPqCRO2g0k70o49vqj40k8Rb6g+NP8PPoXnh2SrWGWPZjeRJO+n4CnLNlUEKI95P41Xnih+oPjSW4s31B8af4bJ0Lzw7LahVMeMt/LHxP6UX+NN9QfE/pT/DZOg88Oy6oqo7nHWH+2Pif0o6Pw2ToPNDszNlKn2LdNWhSsXxG1YAN24qAnKJO5/fPlXkyk26R6j4LK1bqQZUCBOusamPL7vvrJW+29nOViBOjEgzsBAWZ1n3CfKp2F7bW5g2mHoVOgAnbzNS8eTozrb0aZL5/lPz2B5Rtpzn7jUlLzfym3A2P/LUmPIfEUzw3i9q6YU6nadJ0kxVrg7yvBBB/H0NQvdUZSTXsas3mZSe6ceFmAII1UaLtuf30oWGctlNthq/ig5YDELuN4A9d6n2cHdZCpca6e4oQQTH1iDUkYO9DS6zPh8h5+Hf7vSvSh8e1ZzPJRUYe6xAHdNMgElWUa5ATqJjxH7J1oG8ZMWmMMyzrBytlOsdfu66xPNu8oaWU6MVgAGY8I26/s8o72b0aOo1JGg2IOh8OpzESdJ8q0UEg2K67iD/ACn58jpAnpz2Hn97Luc0ZGjrBj2sv5z6a1YixdzAswjWQBvppGnXX9ajdxegeJfORH0R0HWfu99J0JkE3TIAttrrqCI1A1Mb/pSEvNBlCPZjce1pGo5GrC5hrpOjACT8J0jw7x502cA8DxCQ2byEoQ2ka+Mk/pW0ZGTRCS8SY7ttpEiAdJieR5UlsSf5bbE7HkY6b1YHCXPD4hInPpv6aac/uqOMFdGuYTAB9xY6eHoQPdWyZDRGe8RHgJkNtOkctuf760FuHMVKHfQxpFS7OHuA+IgjXbTpB29efOnjZrVENFS95v5Z5jUHfToPP3waUmokiDrp6GKsjZptrNWiGQCtBbM1LNqlJbqhUQnwU0Ks8tClZWpl7dc27YYi6cRkvd2CNipU5lJ8LuNGB2keW3Xo+LVxbcqPEFYjlqBIGx3iNBNcZxt27duO115fTMSAJMwI2kabRy8q+e+BHaTkex8yVRSDuXSGIAFyNiJUCRJmZk+pP31Ow2LflEc8rdeUb1UBGP0t9BEHn5CIjpUzDYMyPGOekj3V6Ukjn+PPk1OCxbtz26GTpyA5V0Dslece1oPM1zXBygkvHWdv1q9wXFjGjyo5CQTXDmhfo9nicKO3YPiSxqfQ9fSrFr9cWwvaZswkxB0jl0FdPwWKlFPUA7zy32EVcM8o8M8zP8Xx0y0Zqbao4v0oXxV7pnNVCmFNlKXNCapCEZKLJSyaKa0RDEFKQyU9NFNaogjG0aSbNSYostaJkshtYpDWRU0qKbZRWiYmiuuKBTQcdKsXA6UwfSrTJojFzy/Cipd5qFUkJsz99SUYKfEQQDMQTz929cyXsJxB51UrJyh7ubmfEYmD5jr61mLnEsSRBuuB5Oec+fnTmH4piU9i4w1J9s8zJ5+VeHh+Jlwp6yXPa/6ejk+RjyVaZrrHyc4wAxcRTqAM08xlLaaDeYk7VWnsZibN8WTAd0uOr5lCZbftwTsRIJ0mCNqYw3aPHja8ftcv1p3jHFcbikFu46EDUHUMCQVaGA2KkgjmDVpfIT/icaJTxf8AlMkYDgmIbDtiiriyq55OhZYkuitqRGs9OtXq9jsVCkWh4tfbTTSYYTH41X4XtTjxb7pu5dMpSDpCxlgRyjr0pOC4/wAQS2LYxCEABQSJcAAAeL86iXmfR1wytei7wvZbGTBshSCPF3igbTOhPXpW47NYXE2i3f3JWBlUsH15nNEjbbbWud4ftNjQ2Zr6xPs5dPSd6k/5oxEkm9vuI0HoMunxrKUZv3X+zSWRyVOjrQvDqKdS8K5F/mu9P+r0+iv5rRv2nvGP4xAHQKJ9SBRGMl9Dkml2dg72i72uRDtXeA1vOdvory9KL/NF7+e1bJy6OeUkjr/eUM9ccHae8P8Aff7j8JpX+a7x/wB659w29DWik+jJzR2DPR565Ae1FyP9V/LU1GftHd5Xrg885q1lfRO8Tsz3gNzTBxyda4vd43cJk3bh/wC5/Wmn4qTuzt6uekc61WX7E7o7W2OHLWqWx2hD4u9ZVge6t2iV5h3Z82Y+Si3pyzGa5inGSBAuMP8AuR8NfKmLeMVZKEKTqSDlJ1nVhqarzr+UWyOz/OielMXcQetcgvcUJEG4x5xnY/nUK5xKJhjrv4jrVLP/AEhaOuYnGKN2A5amN9hQriOKxStJOpmZJb40dar5H2JpFM9/0o1xMdKry1Cay1NKLVMb5Cri29pvZLGPagMY+7Ss1gLYdwGaF1mN9uWhq8waW7ebLdYTodAZAGkSvmayyRRcW0TTlOgLiBr4WOumm1EtsH6b6/028/yE1Hv4o6ZLo19rMvkNoXQ/pS7OKgD+MZ2MKNAAY+jryrLV/r9jTdjqqoOrOZ0HhYfDrzp64LesF5AMaNuN/o7VXfPAG1vRAlZA3YtmjwxGg+Jp8YxDoL8k5tAFJ1mQIWhxYeRkmw9plHic8jAaJ+H7mmy69XWBJ8DGPdG2h+FR3xyCIvc/FIUEQB/x30FMYjE2z/E78lgvsjLB3kFY19pvSmov9fsQ3ZPRkkgs5On0GETOkRSzkjTvJ/8AFvh7NV74u3c0a/AIBJEBpEFRIXlJozxNQgPfeIANAC7wcwHh/c09WTRMVkygsXGgzeFtDzG3r8KP+H/UmJjK2+v/AB8j8KhW+JJcBz3So5BsgPOdhTq461qe/E6RIXlMfR5T99FMKHFVDm0uSJyeFtYAnl9aRSu8tZspZ82vhIaTvyy+VQbnFlDkC4ToSrALGupB06j76XcxdqS3f+LkYWdBIHs+Zp1IWqJdnIQSwcasNA2wJg+z0j40CqQYD7CDlbU5Sem01FGNt5v9bQ+17PMa8vIUnC4u2FUC8YU8wpIGsGY21Aopi0RPNu3yz9Nm/wDrTd5rKwWZ1mYkMJ28qiYniYWIuM0kaAJJlTqNOoHxNN4i5auhe8v7Z9svMiJ06ChRf1DVER8caj3MVNM44KrkIxZREE85AJ+8mo+at0iVAfa+aFR5oVVF6hTRzRUKBkzhl7I+bXY7ROumk6VdpiV3zAZiGMlDGg09jQwI00msxNGp111HTaolBMZpu/WIzLGo3TbXnk9P3sPnKkalRPIlJ2OhhN9aqPnloyTh11JOjsBqZ0A2A1AFJuYqyYjDgaifGxkDce/rU6fYBXEr6MwMEdQcuo9V2+FSuC4hQLiq4tXGCZWLFZAMuneASk6HziKirjLIIIw/0YILmJOhM+nw++lJxC0IjDjQzq5MnkdtvLam1aqgHOOYhGdNRcZbYW44J8bAnXNHihSq5ucVX2cRlJORTPJhmj0qX89syScMNY+m3L9fyohjrUEfNxGbMBnbTQCJ3PM++mlSqgGxj/6Vr7H96P8AxD+la+x/enfntmI+bDckeNhE8p3PvpNvG2YUNhwSAQTnYTMn4yd+gFH5AN/Pv6Vr7H96ba8GZcyhQNDkEadfWpFvG2hP/wDOIKqCM7bgySDynT4eZo/n9ogA4dSYUE52ElVyzptvPwmaPyAbtrYzeIvljlEzIjltE03he6g95mnllMfHSpHz2zOuGEAAAZ20gsSSQNZzDf6tA4+1mDfNl3zEZ2gnTltGh08/KjnoA7ZwvMXJ15gjnHKelN4JzDorhQ5XNtqoJ5sRtOw3pT420RBw4zRGYOQZiM0bTzpZx9nYYZQPFILsdysGYkQFj3mjnoCXdx1xjbYskorKACBMgLqc8rK6+GI99MMSUa3nWC7NPhnUAjUvsWA8xEzyoLxOyBl+arGv0iTrHX/xH7JqsvspZiohSTlHQToPhSUfsBI4tfL3C7FSSFJy7TlAiZM+s1Do6KrSpUIFCjoUwE0KFCmMMUKFCgQdChQpAFQoUKABR0KFMAqFChSAOhQoUAA0VChQAdChQoAFA0KFABUDQoUDBRUKFMD/2Q==)"
      ]
    },
    {
      "cell_type": "markdown",
      "metadata": {
        "id": "S_B_l9qtrrva"
      },
      "source": [
        "**Why these three metrics?**    \n",
        "\n",
        "The three metrics we use are (1)frequency of a particular word, (2)count of unique words, and (3)average sentence length.    \n",
        "(1)Frequency of a particular word:    \n",
        "This metrics can be useful as a measurement of a book becasue it shows how often the author uses that specific word in the book and to what extent that word is emphasized. Here, we are measuring the frequencies of the main characters' names in the two books we choose. By doing so we expect to see how involved the main character is in each book.    \n",
        "(2) Count of unique words:\n",
        "This metrics allows us to know how many uniquely different words are used in a book. This can be a useful and interesting way to measure the reading difficulty of a book in terms of its diversity in vocabulary and word choice.    \n",
        "(3) Average sentence length:    \n",
        "This metrics can tell us a book's average number of words in a sentence. Measuring the average sentence length can be a useful and interesting way to determine a book's reading difficulty in terms of language complexity. Average sentence length can also be a measurement of an author's writing style - whether he/she likes simple, short, and straightforward expressions or complex, long, and obscure expressions."
      ]
    },
    {
      "cell_type": "code",
      "metadata": {
        "id": "jBYoUAQeoNvb"
      },
      "source": [
        "import os"
      ],
      "execution_count": null,
      "outputs": []
    },
    {
      "cell_type": "markdown",
      "metadata": {
        "id": "4jTCz12MnyUM"
      },
      "source": [
        "## Book 1: *Alice's Adventures in Wonderland*\n",
        "\n",
        "\n"
      ]
    },
    {
      "cell_type": "code",
      "metadata": {
        "id": "E7m1cZEPoBtw",
        "outputId": "8ccf4336-d0fb-4294-8d89-bcde9ee75644",
        "colab": {
          "base_uri": "https://localhost:8080/",
          "height": 204
        }
      },
      "source": [
        "if not os.path.exists('11-0.txt'):\n",
        "    !wget https://www.gutenberg.org/files/11/11-0.txt"
      ],
      "execution_count": null,
      "outputs": [
        {
          "output_type": "stream",
          "text": [
            "--2020-09-29 20:27:25--  https://www.gutenberg.org/files/11/11-0.txt\n",
            "Resolving www.gutenberg.org (www.gutenberg.org)... 152.19.134.47, 2610:28:3090:3000:0:bad:cafe:47\n",
            "Connecting to www.gutenberg.org (www.gutenberg.org)|152.19.134.47|:443... connected.\n",
            "HTTP request sent, awaiting response... 200 OK\n",
            "Length: 174484 (170K) [text/plain]\n",
            "Saving to: ‘11-0.txt’\n",
            "\n",
            "11-0.txt            100%[===================>] 170.39K  --.-KB/s    in 0.1s    \n",
            "\n",
            "2020-09-29 20:27:25 (1.18 MB/s) - ‘11-0.txt’ saved [174484/174484]\n",
            "\n"
          ],
          "name": "stdout"
        }
      ]
    },
    {
      "cell_type": "markdown",
      "metadata": {
        "id": "hf9fd94govRH"
      },
      "source": [
        "###Frequency of the word \"Alice\""
      ]
    },
    {
      "cell_type": "code",
      "metadata": {
        "id": "sU6ANSQgoucd"
      },
      "source": [
        "fp = open('11-0.txt')\n",
        "count = 0\n",
        "for line in fp:\n",
        "    if 'Alice' in line.split() :\n",
        "      count += 1"
      ],
      "execution_count": null,
      "outputs": []
    },
    {
      "cell_type": "code",
      "metadata": {
        "id": "ApFMtBo2o8nK",
        "outputId": "d16567ca-e3a1-4e72-b2ce-f2b86d7c490a",
        "colab": {
          "base_uri": "https://localhost:8080/",
          "height": 34
        }
      },
      "source": [
        "count"
      ],
      "execution_count": null,
      "outputs": [
        {
          "output_type": "execute_result",
          "data": {
            "text/plain": [
              "220"
            ]
          },
          "metadata": {
            "tags": []
          },
          "execution_count": 105
        }
      ]
    },
    {
      "cell_type": "markdown",
      "metadata": {
        "id": "KMaZJG4ko_lS"
      },
      "source": [
        "### Count of unique word"
      ]
    },
    {
      "cell_type": "code",
      "metadata": {
        "id": "yQceqgC-o5b-"
      },
      "source": [
        "fp = open('11-0.txt')\n",
        "unique_words_no_cases = {}\n",
        "for line in fp:\n",
        "    for word in line.split():\n",
        "        lower_case_word = word.lower()\n",
        "        unique_words_no_cases[word] = 1"
      ],
      "execution_count": null,
      "outputs": []
    },
    {
      "cell_type": "code",
      "metadata": {
        "id": "R33L9onHo76s",
        "outputId": "2696e3cf-063c-4caf-850c-6188309726bb",
        "colab": {
          "base_uri": "https://localhost:8080/",
          "height": 34
        }
      },
      "source": [
        "len(unique_words_no_cases)"
      ],
      "execution_count": null,
      "outputs": [
        {
          "output_type": "execute_result",
          "data": {
            "text/plain": [
              "6010"
            ]
          },
          "metadata": {
            "tags": []
          },
          "execution_count": 107
        }
      ]
    },
    {
      "cell_type": "markdown",
      "metadata": {
        "id": "ti_h3hWAoUdY"
      },
      "source": [
        "### Average sentence length"
      ]
    },
    {
      "cell_type": "code",
      "metadata": {
        "id": "pdnIZcDVnt69"
      },
      "source": [
        "wordcounts = []\n",
        "with open('11-0.txt') as f:\n",
        "    text = f.read()\n",
        "    sentences = text.split('.')\n",
        "    for n in sentences:\n",
        "        words = n.split(' ')\n",
        "        wordcounts.append(len(words))\n",
        "avrg_sent_len = sum(wordcounts)/len(wordcounts)"
      ],
      "execution_count": null,
      "outputs": []
    },
    {
      "cell_type": "code",
      "metadata": {
        "id": "N5iogHF2pzhz",
        "outputId": "6bb75f78-418e-4a5b-a328-d2a78a6c3852",
        "colab": {
          "base_uri": "https://localhost:8080/",
          "height": 34
        }
      },
      "source": [
        "avrg_sent_len"
      ],
      "execution_count": null,
      "outputs": [
        {
          "output_type": "execute_result",
          "data": {
            "text/plain": [
              "23.397226753670473"
            ]
          },
          "metadata": {
            "tags": []
          },
          "execution_count": 109
        }
      ]
    },
    {
      "cell_type": "markdown",
      "metadata": {
        "id": "hvraB19tp59U"
      },
      "source": [
        "## Book 2: *Pride and Prejudice*"
      ]
    },
    {
      "cell_type": "code",
      "metadata": {
        "id": "ZnbO05x5qCgk",
        "outputId": "14286edf-d5f1-42c2-8fca-a87d97388b5f",
        "colab": {
          "base_uri": "https://localhost:8080/",
          "height": 204
        }
      },
      "source": [
        "if not os.path.exists('1342-0.txt'):\n",
        "    !wget https://www.gutenberg.org/files/1342/1342-0.txt"
      ],
      "execution_count": null,
      "outputs": [
        {
          "output_type": "stream",
          "text": [
            "--2020-09-29 20:28:03--  https://www.gutenberg.org/files/1342/1342-0.txt\n",
            "Resolving www.gutenberg.org (www.gutenberg.org)... 152.19.134.47, 2610:28:3090:3000:0:bad:cafe:47\n",
            "Connecting to www.gutenberg.org (www.gutenberg.org)|152.19.134.47|:443... connected.\n",
            "HTTP request sent, awaiting response... 200 OK\n",
            "Length: 799738 (781K) [text/plain]\n",
            "Saving to: ‘1342-0.txt’\n",
            "\n",
            "1342-0.txt          100%[===================>] 780.99K  1.62MB/s    in 0.5s    \n",
            "\n",
            "2020-09-29 20:28:03 (1.62 MB/s) - ‘1342-0.txt’ saved [799738/799738]\n",
            "\n"
          ],
          "name": "stdout"
        }
      ]
    },
    {
      "cell_type": "markdown",
      "metadata": {
        "id": "yXOwHIRHqKRt"
      },
      "source": [
        "### Frequency of the word \"Darcy\""
      ]
    },
    {
      "cell_type": "code",
      "metadata": {
        "id": "nQEl2JRBqgsO"
      },
      "source": [
        "fp = open('1342-0.txt')\n",
        "count = 0\n",
        "for line in fp:\n",
        "    if 'Darcy' in line.split() :\n",
        "      count += 1"
      ],
      "execution_count": null,
      "outputs": []
    },
    {
      "cell_type": "code",
      "metadata": {
        "id": "7F-vHxOpqjxe",
        "outputId": "648ad15d-a2cd-4bde-93aa-3237193788c9",
        "colab": {
          "base_uri": "https://localhost:8080/",
          "height": 34
        }
      },
      "source": [
        "count"
      ],
      "execution_count": null,
      "outputs": [
        {
          "output_type": "execute_result",
          "data": {
            "text/plain": [
              "214"
            ]
          },
          "metadata": {
            "tags": []
          },
          "execution_count": 112
        }
      ]
    },
    {
      "cell_type": "markdown",
      "metadata": {
        "id": "jjMvtwvdq1_8"
      },
      "source": [
        "###Count of unique word"
      ]
    },
    {
      "cell_type": "code",
      "metadata": {
        "id": "bR1yCyBtq4Ai"
      },
      "source": [
        "fp = open('1342-0.txt')\n",
        "unique_words_no_cases = {}\n",
        "for line in fp:\n",
        "    for word in line.split():\n",
        "        lower_case_word = word.lower()\n",
        "        unique_words_no_cases[word] = 1"
      ],
      "execution_count": null,
      "outputs": []
    },
    {
      "cell_type": "code",
      "metadata": {
        "id": "hBy6m128q_oC",
        "outputId": "1dee488c-0327-4e1b-8a6c-4f233473ffd0",
        "colab": {
          "base_uri": "https://localhost:8080/",
          "height": 34
        }
      },
      "source": [
        "len(unique_words_no_cases)"
      ],
      "execution_count": null,
      "outputs": [
        {
          "output_type": "execute_result",
          "data": {
            "text/plain": [
              "13669"
            ]
          },
          "metadata": {
            "tags": []
          },
          "execution_count": 114
        }
      ]
    },
    {
      "cell_type": "markdown",
      "metadata": {
        "id": "egu4z97BrBte"
      },
      "source": [
        "###Average sentence length"
      ]
    },
    {
      "cell_type": "code",
      "metadata": {
        "id": "uliKtA2DrGAG"
      },
      "source": [
        "wordcounts = []\n",
        "with open('1342-0.txt') as f:\n",
        "    text = f.read()\n",
        "    sentences = text.split('.')\n",
        "    for n in sentences:\n",
        "        words = n.split(' ')\n",
        "        wordcounts.append(len(words))\n",
        "avrg_sent_len = sum(wordcounts)/len(wordcounts)"
      ],
      "execution_count": null,
      "outputs": []
    },
    {
      "cell_type": "code",
      "metadata": {
        "id": "S_PJMiEyrKOX",
        "outputId": "eac294f8-f0e4-4f6c-8c54-081623b85f94",
        "colab": {
          "base_uri": "https://localhost:8080/",
          "height": 34
        }
      },
      "source": [
        "avrg_sent_len"
      ],
      "execution_count": null,
      "outputs": [
        {
          "output_type": "execute_result",
          "data": {
            "text/plain": [
              "29.762075973112395"
            ]
          },
          "metadata": {
            "tags": []
          },
          "execution_count": 116
        }
      ]
    },
    {
      "cell_type": "markdown",
      "metadata": {
        "id": "uWQEVWJnw3pc"
      },
      "source": [
        "**Conclusion**\n",
        "\n",
        "From our analysis, the counts of the protagnists' names in both novels are very similar, with 220 \"Alice\" in *Alice's Adventures in Wonderland* and 214 \"Darcy\" in *Pride and Prejudice*. In terms of the counts of unique words, *Alice's Adventures in Wonderland* has 6010 unique words while *Pride and Prejudice* has 13669, which makes sense because the target audiences of the two books are expected to have different number vocabulary. Furthermore, the average sentence length in *Pride and Prejudice* is 7 words longer than in *Alice's Adventures in Wonderland*, indicating that sentences in *Pride and Prejudice* are more complicated in general."
      ]
    },
    {
      "cell_type": "markdown",
      "metadata": {
        "id": "Skt2EJio2oNG"
      },
      "source": [
        "# Question 4\n"
      ]
    },
    {
      "cell_type": "markdown",
      "metadata": {
        "id": "5XNGpUuNVA5n"
      },
      "source": [
        "Since our group is very interested in the stock market, we had been looking for web APIs that provide financial data. Here is the list of the APIs we found:\n",
        "Xignite API, Paybook API, and Market Stack API. \n",
        "\n",
        "We tried to use the Xignite API and Paybook API, but they both require a subscription. Xignite requires users to contact them for a a specific price quote, and Paybook API offers a subscription plan that starts at $65 per month. Therefore, we decided to use the [Market Stack API](https://marketstack.com/), which allows users to perform up to 1000 API requests per month for free.  \n",
        "\n",
        "\n",
        "\n",
        "\n",
        " "
      ]
    },
    {
      "cell_type": "markdown",
      "metadata": {
        "id": "6_4smUnoVF0p"
      },
      "source": [
        "###Data Extraction:\n",
        "\n",
        "We can use Market Stack's API to query historical financial data in the stock market, such as \"end-of-day data\", \"intraday data\", \"tickers data\", and \"currencies data\". With these data, we can run time series analysis to forecast future stock values and offer suggestions for investors to invest in the stock market.\n",
        "\n",
        "To extract the data, we first need to paste our API key into this notebook as a variable and use the getpass package to save our notebook inputs without showing our API key here. "
      ]
    },
    {
      "cell_type": "code",
      "metadata": {
        "id": "gED-lvH4eSPN",
        "outputId": "ca11a708-bb6e-4ce6-ff22-70d6ca4994f9",
        "colab": {
          "base_uri": "https://localhost:8080/",
          "height": 34
        }
      },
      "source": [
        "import getpass\n",
        "APIKEY = getpass.getpass()"
      ],
      "execution_count": null,
      "outputs": [
        {
          "output_type": "stream",
          "text": [
            "··········\n"
          ],
          "name": "stdout"
        }
      ]
    },
    {
      "cell_type": "markdown",
      "metadata": {
        "id": "fAr5OCRcmtMn"
      },
      "source": [
        "Here, we extracted Apple's end-of-day data using our API key and saved it as \"apple-ticker.json\""
      ]
    },
    {
      "cell_type": "code",
      "metadata": {
        "id": "xrMdC_jbfDu0",
        "outputId": "810dc3e8-abf9-4460-e929-cf07d98628ac",
        "colab": {
          "base_uri": "https://localhost:8080/",
          "height": 68
        }
      },
      "source": [
        "!curl --request GET -o apple-ticker.json \"http://api.marketstack.com/v1/eod?access_key=$APIKEY&symbols=AAPL&date_from=2020-09-01&date_to=2020-09-30\""
      ],
      "execution_count": null,
      "outputs": [
        {
          "output_type": "stream",
          "text": [
            "  % Total    % Received % Xferd  Average Speed   Time    Time     Time  Current\n",
            "                                 Dload  Upload   Total   Spent    Left  Speed\n",
            "100  4680    0  4680    0     0   6974      0 --:--:-- --:--:-- --:--:--  6964\n"
          ],
          "name": "stdout"
        }
      ]
    },
    {
      "cell_type": "code",
      "metadata": {
        "id": "WfcI7QRd0djX",
        "outputId": "5e336ba1-bc4e-410e-8658-2d6b272c24df",
        "colab": {
          "base_uri": "https://localhost:8080/",
          "height": 34
        }
      },
      "source": [
        "! ls"
      ],
      "execution_count": null,
      "outputs": [
        {
          "output_type": "stream",
          "text": [
            "11-0.txt  1342-0.txt  apple-data.json  apple-ticker.json  sample_data\n"
          ],
          "name": "stdout"
        }
      ]
    },
    {
      "cell_type": "markdown",
      "metadata": {
        "id": "RH3QL22U05Dt"
      },
      "source": [
        "We can use the jq package here to redirect our file \"apple-ticker.json\""
      ]
    },
    {
      "cell_type": "code",
      "metadata": {
        "id": "AsW79X2yy_xO",
        "outputId": "507af96c-9ac8-4a6d-f6b6-0c33f088596d",
        "colab": {
          "base_uri": "https://localhost:8080/",
          "height": 102
        }
      },
      "source": [
        "! sudo apt-get install jq"
      ],
      "execution_count": null,
      "outputs": [
        {
          "output_type": "stream",
          "text": [
            "Reading package lists... Done\n",
            "Building dependency tree       \n",
            "Reading state information... Done\n",
            "jq is already the newest version (1.5+dfsg-2).\n",
            "0 upgraded, 0 newly installed, 0 to remove and 21 not upgraded.\n"
          ],
          "name": "stdout"
        }
      ]
    },
    {
      "cell_type": "markdown",
      "metadata": {
        "id": "7AnyLsr01xY8"
      },
      "source": [
        "Apple's ticker data in JSON format is shown below:"
      ]
    },
    {
      "cell_type": "code",
      "metadata": {
        "id": "gmG-4xv0zKbW",
        "outputId": "c6f61841-e107-4e04-9b6f-059d30d1e5f9",
        "colab": {
          "base_uri": "https://localhost:8080/",
          "height": 1000
        }
      },
      "source": [
        "!jq <apple-ticker.json"
      ],
      "execution_count": null,
      "outputs": [
        {
          "output_type": "stream",
          "text": [
            "\u001b[1;39m{\n",
            "  \u001b[0m\u001b[34;1m\"pagination\"\u001b[0m\u001b[1;39m: \u001b[0m\u001b[1;39m{\n",
            "    \u001b[0m\u001b[34;1m\"limit\"\u001b[0m\u001b[1;39m: \u001b[0m\u001b[0;39m100\u001b[0m\u001b[1;39m,\n",
            "    \u001b[0m\u001b[34;1m\"offset\"\u001b[0m\u001b[1;39m: \u001b[0m\u001b[0;39m0\u001b[0m\u001b[1;39m,\n",
            "    \u001b[0m\u001b[34;1m\"count\"\u001b[0m\u001b[1;39m: \u001b[0m\u001b[0;39m19\u001b[0m\u001b[1;39m,\n",
            "    \u001b[0m\u001b[34;1m\"total\"\u001b[0m\u001b[1;39m: \u001b[0m\u001b[0;39m19\u001b[0m\u001b[1;39m\n",
            "  \u001b[1;39m}\u001b[0m\u001b[1;39m,\n",
            "  \u001b[0m\u001b[34;1m\"data\"\u001b[0m\u001b[1;39m: \u001b[0m\u001b[1;39m[\n",
            "    \u001b[1;39m{\n",
            "      \u001b[0m\u001b[34;1m\"open\"\u001b[0m\u001b[1;39m: \u001b[0m\u001b[0;39m115.01\u001b[0m\u001b[1;39m,\n",
            "      \u001b[0m\u001b[34;1m\"high\"\u001b[0m\u001b[1;39m: \u001b[0m\u001b[0;39m115.32\u001b[0m\u001b[1;39m,\n",
            "      \u001b[0m\u001b[34;1m\"low\"\u001b[0m\u001b[1;39m: \u001b[0m\u001b[0;39m112.78\u001b[0m\u001b[1;39m,\n",
            "      \u001b[0m\u001b[34;1m\"close\"\u001b[0m\u001b[1;39m: \u001b[0m\u001b[0;39m114.96\u001b[0m\u001b[1;39m,\n",
            "      \u001b[0m\u001b[34;1m\"volume\"\u001b[0m\u001b[1;39m: \u001b[0m\u001b[0;39m136441425\u001b[0m\u001b[1;39m,\n",
            "      \u001b[0m\u001b[34;1m\"adj_high\"\u001b[0m\u001b[1;39m: \u001b[0m\u001b[0;39m115.32\u001b[0m\u001b[1;39m,\n",
            "      \u001b[0m\u001b[34;1m\"adj_low\"\u001b[0m\u001b[1;39m: \u001b[0m\u001b[0;39m112.78\u001b[0m\u001b[1;39m,\n",
            "      \u001b[0m\u001b[34;1m\"adj_close\"\u001b[0m\u001b[1;39m: \u001b[0m\u001b[0;39m114.96\u001b[0m\u001b[1;39m,\n",
            "      \u001b[0m\u001b[34;1m\"adj_open\"\u001b[0m\u001b[1;39m: \u001b[0m\u001b[0;39m115.01\u001b[0m\u001b[1;39m,\n",
            "      \u001b[0m\u001b[34;1m\"adj_volume\"\u001b[0m\u001b[1;39m: \u001b[0m\u001b[0;39m136441425\u001b[0m\u001b[1;39m,\n",
            "      \u001b[0m\u001b[34;1m\"symbol\"\u001b[0m\u001b[1;39m: \u001b[0m\u001b[0;32m\"AAPL\"\u001b[0m\u001b[1;39m,\n",
            "      \u001b[0m\u001b[34;1m\"exchange\"\u001b[0m\u001b[1;39m: \u001b[0m\u001b[0;32m\"XNAS\"\u001b[0m\u001b[1;39m,\n",
            "      \u001b[0m\u001b[34;1m\"date\"\u001b[0m\u001b[1;39m: \u001b[0m\u001b[0;32m\"2020-09-28T00:00:00+0000\"\u001b[0m\u001b[1;39m\n",
            "    \u001b[1;39m}\u001b[0m\u001b[1;39m,\n",
            "    \u001b[1;39m{\n",
            "      \u001b[0m\u001b[34;1m\"open\"\u001b[0m\u001b[1;39m: \u001b[0m\u001b[0;39m108.43\u001b[0m\u001b[1;39m,\n",
            "      \u001b[0m\u001b[34;1m\"high\"\u001b[0m\u001b[1;39m: \u001b[0m\u001b[0;39m112.44\u001b[0m\u001b[1;39m,\n",
            "      \u001b[0m\u001b[34;1m\"low\"\u001b[0m\u001b[1;39m: \u001b[0m\u001b[0;39m107.67\u001b[0m\u001b[1;39m,\n",
            "      \u001b[0m\u001b[34;1m\"close\"\u001b[0m\u001b[1;39m: \u001b[0m\u001b[0;39m112.28\u001b[0m\u001b[1;39m,\n",
            "      \u001b[0m\u001b[34;1m\"volume\"\u001b[0m\u001b[1;39m: \u001b[0m\u001b[0;39m149981441\u001b[0m\u001b[1;39m,\n",
            "      \u001b[0m\u001b[34;1m\"adj_high\"\u001b[0m\u001b[1;39m: \u001b[0m\u001b[0;39m112.44\u001b[0m\u001b[1;39m,\n",
            "      \u001b[0m\u001b[34;1m\"adj_low\"\u001b[0m\u001b[1;39m: \u001b[0m\u001b[0;39m107.67\u001b[0m\u001b[1;39m,\n",
            "      \u001b[0m\u001b[34;1m\"adj_close\"\u001b[0m\u001b[1;39m: \u001b[0m\u001b[0;39m112.28\u001b[0m\u001b[1;39m,\n",
            "      \u001b[0m\u001b[34;1m\"adj_open\"\u001b[0m\u001b[1;39m: \u001b[0m\u001b[0;39m108.43\u001b[0m\u001b[1;39m,\n",
            "      \u001b[0m\u001b[34;1m\"adj_volume\"\u001b[0m\u001b[1;39m: \u001b[0m\u001b[0;39m149981441\u001b[0m\u001b[1;39m,\n",
            "      \u001b[0m\u001b[34;1m\"symbol\"\u001b[0m\u001b[1;39m: \u001b[0m\u001b[0;32m\"AAPL\"\u001b[0m\u001b[1;39m,\n",
            "      \u001b[0m\u001b[34;1m\"exchange\"\u001b[0m\u001b[1;39m: \u001b[0m\u001b[0;32m\"XNAS\"\u001b[0m\u001b[1;39m,\n",
            "      \u001b[0m\u001b[34;1m\"date\"\u001b[0m\u001b[1;39m: \u001b[0m\u001b[0;32m\"2020-09-25T00:00:00+0000\"\u001b[0m\u001b[1;39m\n",
            "    \u001b[1;39m}\u001b[0m\u001b[1;39m,\n",
            "    \u001b[1;39m{\n",
            "      \u001b[0m\u001b[34;1m\"open\"\u001b[0m\u001b[1;39m: \u001b[0m\u001b[0;39m105.17\u001b[0m\u001b[1;39m,\n",
            "      \u001b[0m\u001b[34;1m\"high\"\u001b[0m\u001b[1;39m: \u001b[0m\u001b[0;39m110.25\u001b[0m\u001b[1;39m,\n",
            "      \u001b[0m\u001b[34;1m\"low\"\u001b[0m\u001b[1;39m: \u001b[0m\u001b[0;39m105\u001b[0m\u001b[1;39m,\n",
            "      \u001b[0m\u001b[34;1m\"close\"\u001b[0m\u001b[1;39m: \u001b[0m\u001b[0;39m108.22\u001b[0m\u001b[1;39m,\n",
            "      \u001b[0m\u001b[34;1m\"volume\"\u001b[0m\u001b[1;39m: \u001b[0m\u001b[0;39m167743349\u001b[0m\u001b[1;39m,\n",
            "      \u001b[0m\u001b[34;1m\"adj_high\"\u001b[0m\u001b[1;39m: \u001b[0m\u001b[0;39m110.25\u001b[0m\u001b[1;39m,\n",
            "      \u001b[0m\u001b[34;1m\"adj_low\"\u001b[0m\u001b[1;39m: \u001b[0m\u001b[0;39m105\u001b[0m\u001b[1;39m,\n",
            "      \u001b[0m\u001b[34;1m\"adj_close\"\u001b[0m\u001b[1;39m: \u001b[0m\u001b[0;39m108.22\u001b[0m\u001b[1;39m,\n",
            "      \u001b[0m\u001b[34;1m\"adj_open\"\u001b[0m\u001b[1;39m: \u001b[0m\u001b[0;39m105.17\u001b[0m\u001b[1;39m,\n",
            "      \u001b[0m\u001b[34;1m\"adj_volume\"\u001b[0m\u001b[1;39m: \u001b[0m\u001b[0;39m167743349\u001b[0m\u001b[1;39m,\n",
            "      \u001b[0m\u001b[34;1m\"symbol\"\u001b[0m\u001b[1;39m: \u001b[0m\u001b[0;32m\"AAPL\"\u001b[0m\u001b[1;39m,\n",
            "      \u001b[0m\u001b[34;1m\"exchange\"\u001b[0m\u001b[1;39m: \u001b[0m\u001b[0;32m\"XNAS\"\u001b[0m\u001b[1;39m,\n",
            "      \u001b[0m\u001b[34;1m\"date\"\u001b[0m\u001b[1;39m: \u001b[0m\u001b[0;32m\"2020-09-24T00:00:00+0000\"\u001b[0m\u001b[1;39m\n",
            "    \u001b[1;39m}\u001b[0m\u001b[1;39m,\n",
            "    \u001b[1;39m{\n",
            "      \u001b[0m\u001b[34;1m\"open\"\u001b[0m\u001b[1;39m: \u001b[0m\u001b[0;39m111.62\u001b[0m\u001b[1;39m,\n",
            "      \u001b[0m\u001b[34;1m\"high\"\u001b[0m\u001b[1;39m: \u001b[0m\u001b[0;39m112.11\u001b[0m\u001b[1;39m,\n",
            "      \u001b[0m\u001b[34;1m\"low\"\u001b[0m\u001b[1;39m: \u001b[0m\u001b[0;39m106.77\u001b[0m\u001b[1;39m,\n",
            "      \u001b[0m\u001b[34;1m\"close\"\u001b[0m\u001b[1;39m: \u001b[0m\u001b[0;39m107.12\u001b[0m\u001b[1;39m,\n",
            "      \u001b[0m\u001b[34;1m\"volume\"\u001b[0m\u001b[1;39m: \u001b[0m\u001b[0;39m150718671\u001b[0m\u001b[1;39m,\n",
            "      \u001b[0m\u001b[34;1m\"adj_high\"\u001b[0m\u001b[1;39m: \u001b[0m\u001b[0;39m112.11\u001b[0m\u001b[1;39m,\n",
            "      \u001b[0m\u001b[34;1m\"adj_low\"\u001b[0m\u001b[1;39m: \u001b[0m\u001b[0;39m106.77\u001b[0m\u001b[1;39m,\n",
            "      \u001b[0m\u001b[34;1m\"adj_close\"\u001b[0m\u001b[1;39m: \u001b[0m\u001b[0;39m107.12\u001b[0m\u001b[1;39m,\n",
            "      \u001b[0m\u001b[34;1m\"adj_open\"\u001b[0m\u001b[1;39m: \u001b[0m\u001b[0;39m111.62\u001b[0m\u001b[1;39m,\n",
            "      \u001b[0m\u001b[34;1m\"adj_volume\"\u001b[0m\u001b[1;39m: \u001b[0m\u001b[0;39m150718671\u001b[0m\u001b[1;39m,\n",
            "      \u001b[0m\u001b[34;1m\"symbol\"\u001b[0m\u001b[1;39m: \u001b[0m\u001b[0;32m\"AAPL\"\u001b[0m\u001b[1;39m,\n",
            "      \u001b[0m\u001b[34;1m\"exchange\"\u001b[0m\u001b[1;39m: \u001b[0m\u001b[0;32m\"XNAS\"\u001b[0m\u001b[1;39m,\n",
            "      \u001b[0m\u001b[34;1m\"date\"\u001b[0m\u001b[1;39m: \u001b[0m\u001b[0;32m\"2020-09-23T00:00:00+0000\"\u001b[0m\u001b[1;39m\n",
            "    \u001b[1;39m}\u001b[0m\u001b[1;39m,\n",
            "    \u001b[1;39m{\n",
            "      \u001b[0m\u001b[34;1m\"open\"\u001b[0m\u001b[1;39m: \u001b[0m\u001b[0;39m112.68\u001b[0m\u001b[1;39m,\n",
            "      \u001b[0m\u001b[34;1m\"high\"\u001b[0m\u001b[1;39m: \u001b[0m\u001b[0;39m112.86\u001b[0m\u001b[1;39m,\n",
            "      \u001b[0m\u001b[34;1m\"low\"\u001b[0m\u001b[1;39m: \u001b[0m\u001b[0;39m109.16\u001b[0m\u001b[1;39m,\n",
            "      \u001b[0m\u001b[34;1m\"close\"\u001b[0m\u001b[1;39m: \u001b[0m\u001b[0;39m111.81\u001b[0m\u001b[1;39m,\n",
            "      \u001b[0m\u001b[34;1m\"volume\"\u001b[0m\u001b[1;39m: \u001b[0m\u001b[0;39m183055373\u001b[0m\u001b[1;39m,\n",
            "      \u001b[0m\u001b[34;1m\"adj_high\"\u001b[0m\u001b[1;39m: \u001b[0m\u001b[0;39m112.86\u001b[0m\u001b[1;39m,\n",
            "      \u001b[0m\u001b[34;1m\"adj_low\"\u001b[0m\u001b[1;39m: \u001b[0m\u001b[0;39m109.16\u001b[0m\u001b[1;39m,\n",
            "      \u001b[0m\u001b[34;1m\"adj_close\"\u001b[0m\u001b[1;39m: \u001b[0m\u001b[0;39m111.81\u001b[0m\u001b[1;39m,\n",
            "      \u001b[0m\u001b[34;1m\"adj_open\"\u001b[0m\u001b[1;39m: \u001b[0m\u001b[0;39m112.68\u001b[0m\u001b[1;39m,\n",
            "      \u001b[0m\u001b[34;1m\"adj_volume\"\u001b[0m\u001b[1;39m: \u001b[0m\u001b[0;39m183055373\u001b[0m\u001b[1;39m,\n",
            "      \u001b[0m\u001b[34;1m\"symbol\"\u001b[0m\u001b[1;39m: \u001b[0m\u001b[0;32m\"AAPL\"\u001b[0m\u001b[1;39m,\n",
            "      \u001b[0m\u001b[34;1m\"exchange\"\u001b[0m\u001b[1;39m: \u001b[0m\u001b[0;32m\"XNAS\"\u001b[0m\u001b[1;39m,\n",
            "      \u001b[0m\u001b[34;1m\"date\"\u001b[0m\u001b[1;39m: \u001b[0m\u001b[0;32m\"2020-09-22T00:00:00+0000\"\u001b[0m\u001b[1;39m\n",
            "    \u001b[1;39m}\u001b[0m\u001b[1;39m,\n",
            "    \u001b[1;39m{\n",
            "      \u001b[0m\u001b[34;1m\"open\"\u001b[0m\u001b[1;39m: \u001b[0m\u001b[0;39m104.54\u001b[0m\u001b[1;39m,\n",
            "      \u001b[0m\u001b[34;1m\"high\"\u001b[0m\u001b[1;39m: \u001b[0m\u001b[0;39m110.19\u001b[0m\u001b[1;39m,\n",
            "      \u001b[0m\u001b[34;1m\"low\"\u001b[0m\u001b[1;39m: \u001b[0m\u001b[0;39m103.1\u001b[0m\u001b[1;39m,\n",
            "      \u001b[0m\u001b[34;1m\"close\"\u001b[0m\u001b[1;39m: \u001b[0m\u001b[0;39m110.08\u001b[0m\u001b[1;39m,\n",
            "      \u001b[0m\u001b[34;1m\"volume\"\u001b[0m\u001b[1;39m: \u001b[0m\u001b[0;39m193321297\u001b[0m\u001b[1;39m,\n",
            "      \u001b[0m\u001b[34;1m\"adj_high\"\u001b[0m\u001b[1;39m: \u001b[0m\u001b[0;39m110.19\u001b[0m\u001b[1;39m,\n",
            "      \u001b[0m\u001b[34;1m\"adj_low\"\u001b[0m\u001b[1;39m: \u001b[0m\u001b[0;39m103.1\u001b[0m\u001b[1;39m,\n",
            "      \u001b[0m\u001b[34;1m\"adj_close\"\u001b[0m\u001b[1;39m: \u001b[0m\u001b[0;39m110.08\u001b[0m\u001b[1;39m,\n",
            "      \u001b[0m\u001b[34;1m\"adj_open\"\u001b[0m\u001b[1;39m: \u001b[0m\u001b[0;39m104.54\u001b[0m\u001b[1;39m,\n",
            "      \u001b[0m\u001b[34;1m\"adj_volume\"\u001b[0m\u001b[1;39m: \u001b[0m\u001b[0;39m193321297\u001b[0m\u001b[1;39m,\n",
            "      \u001b[0m\u001b[34;1m\"symbol\"\u001b[0m\u001b[1;39m: \u001b[0m\u001b[0;32m\"AAPL\"\u001b[0m\u001b[1;39m,\n",
            "      \u001b[0m\u001b[34;1m\"exchange\"\u001b[0m\u001b[1;39m: \u001b[0m\u001b[0;32m\"XNAS\"\u001b[0m\u001b[1;39m,\n",
            "      \u001b[0m\u001b[34;1m\"date\"\u001b[0m\u001b[1;39m: \u001b[0m\u001b[0;32m\"2020-09-21T00:00:00+0000\"\u001b[0m\u001b[1;39m\n",
            "    \u001b[1;39m}\u001b[0m\u001b[1;39m,\n",
            "    \u001b[1;39m{\n",
            "      \u001b[0m\u001b[34;1m\"open\"\u001b[0m\u001b[1;39m: \u001b[0m\u001b[0;39m110.4\u001b[0m\u001b[1;39m,\n",
            "      \u001b[0m\u001b[34;1m\"high\"\u001b[0m\u001b[1;39m: \u001b[0m\u001b[0;39m110.88\u001b[0m\u001b[1;39m,\n",
            "      \u001b[0m\u001b[34;1m\"low\"\u001b[0m\u001b[1;39m: \u001b[0m\u001b[0;39m106.09\u001b[0m\u001b[1;39m,\n",
            "      \u001b[0m\u001b[34;1m\"close\"\u001b[0m\u001b[1;39m: \u001b[0m\u001b[0;39m106.84\u001b[0m\u001b[1;39m,\n",
            "      \u001b[0m\u001b[34;1m\"volume\"\u001b[0m\u001b[1;39m: \u001b[0m\u001b[0;39m284477372\u001b[0m\u001b[1;39m,\n",
            "      \u001b[0m\u001b[34;1m\"adj_high\"\u001b[0m\u001b[1;39m: \u001b[0m\u001b[0;39m110.88\u001b[0m\u001b[1;39m,\n",
            "      \u001b[0m\u001b[34;1m\"adj_low\"\u001b[0m\u001b[1;39m: \u001b[0m\u001b[0;39m106.09\u001b[0m\u001b[1;39m,\n",
            "      \u001b[0m\u001b[34;1m\"adj_close\"\u001b[0m\u001b[1;39m: \u001b[0m\u001b[0;39m106.84\u001b[0m\u001b[1;39m,\n",
            "      \u001b[0m\u001b[34;1m\"adj_open\"\u001b[0m\u001b[1;39m: \u001b[0m\u001b[0;39m110.4\u001b[0m\u001b[1;39m,\n",
            "      \u001b[0m\u001b[34;1m\"adj_volume\"\u001b[0m\u001b[1;39m: \u001b[0m\u001b[0;39m284477372\u001b[0m\u001b[1;39m,\n",
            "      \u001b[0m\u001b[34;1m\"symbol\"\u001b[0m\u001b[1;39m: \u001b[0m\u001b[0;32m\"AAPL\"\u001b[0m\u001b[1;39m,\n",
            "      \u001b[0m\u001b[34;1m\"exchange\"\u001b[0m\u001b[1;39m: \u001b[0m\u001b[0;32m\"XNAS\"\u001b[0m\u001b[1;39m,\n",
            "      \u001b[0m\u001b[34;1m\"date\"\u001b[0m\u001b[1;39m: \u001b[0m\u001b[0;32m\"2020-09-18T00:00:00+0000\"\u001b[0m\u001b[1;39m\n",
            "    \u001b[1;39m}\u001b[0m\u001b[1;39m,\n",
            "    \u001b[1;39m{\n",
            "      \u001b[0m\u001b[34;1m\"open\"\u001b[0m\u001b[1;39m: \u001b[0m\u001b[0;39m109.72\u001b[0m\u001b[1;39m,\n",
            "      \u001b[0m\u001b[34;1m\"high\"\u001b[0m\u001b[1;39m: \u001b[0m\u001b[0;39m112.2\u001b[0m\u001b[1;39m,\n",
            "      \u001b[0m\u001b[34;1m\"low\"\u001b[0m\u001b[1;39m: \u001b[0m\u001b[0;39m108.71\u001b[0m\u001b[1;39m,\n",
            "      \u001b[0m\u001b[34;1m\"close\"\u001b[0m\u001b[1;39m: \u001b[0m\u001b[0;39m110.34\u001b[0m\u001b[1;39m,\n",
            "      \u001b[0m\u001b[34;1m\"volume\"\u001b[0m\u001b[1;39m: \u001b[0m\u001b[0;39m176909480\u001b[0m\u001b[1;39m,\n",
            "      \u001b[0m\u001b[34;1m\"adj_high\"\u001b[0m\u001b[1;39m: \u001b[0m\u001b[0;39m112.2\u001b[0m\u001b[1;39m,\n",
            "      \u001b[0m\u001b[34;1m\"adj_low\"\u001b[0m\u001b[1;39m: \u001b[0m\u001b[0;39m108.71\u001b[0m\u001b[1;39m,\n",
            "      \u001b[0m\u001b[34;1m\"adj_close\"\u001b[0m\u001b[1;39m: \u001b[0m\u001b[0;39m110.34\u001b[0m\u001b[1;39m,\n",
            "      \u001b[0m\u001b[34;1m\"adj_open\"\u001b[0m\u001b[1;39m: \u001b[0m\u001b[0;39m109.72\u001b[0m\u001b[1;39m,\n",
            "      \u001b[0m\u001b[34;1m\"adj_volume\"\u001b[0m\u001b[1;39m: \u001b[0m\u001b[0;39m176909480\u001b[0m\u001b[1;39m,\n",
            "      \u001b[0m\u001b[34;1m\"symbol\"\u001b[0m\u001b[1;39m: \u001b[0m\u001b[0;32m\"AAPL\"\u001b[0m\u001b[1;39m,\n",
            "      \u001b[0m\u001b[34;1m\"exchange\"\u001b[0m\u001b[1;39m: \u001b[0m\u001b[0;32m\"XNAS\"\u001b[0m\u001b[1;39m,\n",
            "      \u001b[0m\u001b[34;1m\"date\"\u001b[0m\u001b[1;39m: \u001b[0m\u001b[0;32m\"2020-09-17T00:00:00+0000\"\u001b[0m\u001b[1;39m\n",
            "    \u001b[1;39m}\u001b[0m\u001b[1;39m,\n",
            "    \u001b[1;39m{\n",
            "      \u001b[0m\u001b[34;1m\"open\"\u001b[0m\u001b[1;39m: \u001b[0m\u001b[0;39m115.23\u001b[0m\u001b[1;39m,\n",
            "      \u001b[0m\u001b[34;1m\"high\"\u001b[0m\u001b[1;39m: \u001b[0m\u001b[0;39m116\u001b[0m\u001b[1;39m,\n",
            "      \u001b[0m\u001b[34;1m\"low\"\u001b[0m\u001b[1;39m: \u001b[0m\u001b[0;39m112.04\u001b[0m\u001b[1;39m,\n",
            "      \u001b[0m\u001b[34;1m\"close\"\u001b[0m\u001b[1;39m: \u001b[0m\u001b[0;39m112.13\u001b[0m\u001b[1;39m,\n",
            "      \u001b[0m\u001b[34;1m\"volume\"\u001b[0m\u001b[1;39m: \u001b[0m\u001b[0;39m154066350\u001b[0m\u001b[1;39m,\n",
            "      \u001b[0m\u001b[34;1m\"adj_high\"\u001b[0m\u001b[1;39m: \u001b[0m\u001b[0;39m116\u001b[0m\u001b[1;39m,\n",
            "      \u001b[0m\u001b[34;1m\"adj_low\"\u001b[0m\u001b[1;39m: \u001b[0m\u001b[0;39m112.04\u001b[0m\u001b[1;39m,\n",
            "      \u001b[0m\u001b[34;1m\"adj_close\"\u001b[0m\u001b[1;39m: \u001b[0m\u001b[0;39m112.13\u001b[0m\u001b[1;39m,\n",
            "      \u001b[0m\u001b[34;1m\"adj_open\"\u001b[0m\u001b[1;39m: \u001b[0m\u001b[0;39m115.23\u001b[0m\u001b[1;39m,\n",
            "      \u001b[0m\u001b[34;1m\"adj_volume\"\u001b[0m\u001b[1;39m: \u001b[0m\u001b[0;39m154066350\u001b[0m\u001b[1;39m,\n",
            "      \u001b[0m\u001b[34;1m\"symbol\"\u001b[0m\u001b[1;39m: \u001b[0m\u001b[0;32m\"AAPL\"\u001b[0m\u001b[1;39m,\n",
            "      \u001b[0m\u001b[34;1m\"exchange\"\u001b[0m\u001b[1;39m: \u001b[0m\u001b[0;32m\"XNAS\"\u001b[0m\u001b[1;39m,\n",
            "      \u001b[0m\u001b[34;1m\"date\"\u001b[0m\u001b[1;39m: \u001b[0m\u001b[0;32m\"2020-09-16T00:00:00+0000\"\u001b[0m\u001b[1;39m\n",
            "    \u001b[1;39m}\u001b[0m\u001b[1;39m,\n",
            "    \u001b[1;39m{\n",
            "      \u001b[0m\u001b[34;1m\"open\"\u001b[0m\u001b[1;39m: \u001b[0m\u001b[0;39m118.33\u001b[0m\u001b[1;39m,\n",
            "      \u001b[0m\u001b[34;1m\"high\"\u001b[0m\u001b[1;39m: \u001b[0m\u001b[0;39m118.829\u001b[0m\u001b[1;39m,\n",
            "      \u001b[0m\u001b[34;1m\"low\"\u001b[0m\u001b[1;39m: \u001b[0m\u001b[0;39m113.61\u001b[0m\u001b[1;39m,\n",
            "      \u001b[0m\u001b[34;1m\"close\"\u001b[0m\u001b[1;39m: \u001b[0m\u001b[0;39m115.54\u001b[0m\u001b[1;39m,\n",
            "      \u001b[0m\u001b[34;1m\"volume\"\u001b[0m\u001b[1;39m: \u001b[0m\u001b[0;39m182985051\u001b[0m\u001b[1;39m,\n",
            "      \u001b[0m\u001b[34;1m\"adj_high\"\u001b[0m\u001b[1;39m: \u001b[0m\u001b[0;39m118.829\u001b[0m\u001b[1;39m,\n",
            "      \u001b[0m\u001b[34;1m\"adj_low\"\u001b[0m\u001b[1;39m: \u001b[0m\u001b[0;39m113.61\u001b[0m\u001b[1;39m,\n",
            "      \u001b[0m\u001b[34;1m\"adj_close\"\u001b[0m\u001b[1;39m: \u001b[0m\u001b[0;39m115.54\u001b[0m\u001b[1;39m,\n",
            "      \u001b[0m\u001b[34;1m\"adj_open\"\u001b[0m\u001b[1;39m: \u001b[0m\u001b[0;39m118.33\u001b[0m\u001b[1;39m,\n",
            "      \u001b[0m\u001b[34;1m\"adj_volume\"\u001b[0m\u001b[1;39m: \u001b[0m\u001b[0;39m182985051\u001b[0m\u001b[1;39m,\n",
            "      \u001b[0m\u001b[34;1m\"symbol\"\u001b[0m\u001b[1;39m: \u001b[0m\u001b[0;32m\"AAPL\"\u001b[0m\u001b[1;39m,\n",
            "      \u001b[0m\u001b[34;1m\"exchange\"\u001b[0m\u001b[1;39m: \u001b[0m\u001b[0;32m\"XNAS\"\u001b[0m\u001b[1;39m,\n",
            "      \u001b[0m\u001b[34;1m\"date\"\u001b[0m\u001b[1;39m: \u001b[0m\u001b[0;32m\"2020-09-15T00:00:00+0000\"\u001b[0m\u001b[1;39m\n",
            "    \u001b[1;39m}\u001b[0m\u001b[1;39m,\n",
            "    \u001b[1;39m{\n",
            "      \u001b[0m\u001b[34;1m\"open\"\u001b[0m\u001b[1;39m: \u001b[0m\u001b[0;39m114.72\u001b[0m\u001b[1;39m,\n",
            "      \u001b[0m\u001b[34;1m\"high\"\u001b[0m\u001b[1;39m: \u001b[0m\u001b[0;39m115.93\u001b[0m\u001b[1;39m,\n",
            "      \u001b[0m\u001b[34;1m\"low\"\u001b[0m\u001b[1;39m: \u001b[0m\u001b[0;39m112.8\u001b[0m\u001b[1;39m,\n",
            "      \u001b[0m\u001b[34;1m\"close\"\u001b[0m\u001b[1;39m: \u001b[0m\u001b[0;39m115.355\u001b[0m\u001b[1;39m,\n",
            "      \u001b[0m\u001b[34;1m\"volume\"\u001b[0m\u001b[1;39m: \u001b[0m\u001b[0;39m138248838\u001b[0m\u001b[1;39m,\n",
            "      \u001b[0m\u001b[34;1m\"adj_high\"\u001b[0m\u001b[1;39m: \u001b[0m\u001b[0;39m115.93\u001b[0m\u001b[1;39m,\n",
            "      \u001b[0m\u001b[34;1m\"adj_low\"\u001b[0m\u001b[1;39m: \u001b[0m\u001b[0;39m112.8\u001b[0m\u001b[1;39m,\n",
            "      \u001b[0m\u001b[34;1m\"adj_close\"\u001b[0m\u001b[1;39m: \u001b[0m\u001b[0;39m115.355\u001b[0m\u001b[1;39m,\n",
            "      \u001b[0m\u001b[34;1m\"adj_open\"\u001b[0m\u001b[1;39m: \u001b[0m\u001b[0;39m114.72\u001b[0m\u001b[1;39m,\n",
            "      \u001b[0m\u001b[34;1m\"adj_volume\"\u001b[0m\u001b[1;39m: \u001b[0m\u001b[0;39m138248838\u001b[0m\u001b[1;39m,\n",
            "      \u001b[0m\u001b[34;1m\"symbol\"\u001b[0m\u001b[1;39m: \u001b[0m\u001b[0;32m\"AAPL\"\u001b[0m\u001b[1;39m,\n",
            "      \u001b[0m\u001b[34;1m\"exchange\"\u001b[0m\u001b[1;39m: \u001b[0m\u001b[0;32m\"XNAS\"\u001b[0m\u001b[1;39m,\n",
            "      \u001b[0m\u001b[34;1m\"date\"\u001b[0m\u001b[1;39m: \u001b[0m\u001b[0;32m\"2020-09-14T00:00:00+0000\"\u001b[0m\u001b[1;39m\n",
            "    \u001b[1;39m}\u001b[0m\u001b[1;39m,\n",
            "    \u001b[1;39m{\n",
            "      \u001b[0m\u001b[34;1m\"open\"\u001b[0m\u001b[1;39m: \u001b[0m\u001b[0;39m114.57\u001b[0m\u001b[1;39m,\n",
            "      \u001b[0m\u001b[34;1m\"high\"\u001b[0m\u001b[1;39m: \u001b[0m\u001b[0;39m115.23\u001b[0m\u001b[1;39m,\n",
            "      \u001b[0m\u001b[34;1m\"low\"\u001b[0m\u001b[1;39m: \u001b[0m\u001b[0;39m110\u001b[0m\u001b[1;39m,\n",
            "      \u001b[0m\u001b[34;1m\"close\"\u001b[0m\u001b[1;39m: \u001b[0m\u001b[0;39m112\u001b[0m\u001b[1;39m,\n",
            "      \u001b[0m\u001b[34;1m\"volume\"\u001b[0m\u001b[1;39m: \u001b[0m\u001b[0;39m179376569\u001b[0m\u001b[1;39m,\n",
            "      \u001b[0m\u001b[34;1m\"adj_high\"\u001b[0m\u001b[1;39m: \u001b[0m\u001b[0;39m115.23\u001b[0m\u001b[1;39m,\n",
            "      \u001b[0m\u001b[34;1m\"adj_low\"\u001b[0m\u001b[1;39m: \u001b[0m\u001b[0;39m110\u001b[0m\u001b[1;39m,\n",
            "      \u001b[0m\u001b[34;1m\"adj_close\"\u001b[0m\u001b[1;39m: \u001b[0m\u001b[0;39m112\u001b[0m\u001b[1;39m,\n",
            "      \u001b[0m\u001b[34;1m\"adj_open\"\u001b[0m\u001b[1;39m: \u001b[0m\u001b[0;39m114.57\u001b[0m\u001b[1;39m,\n",
            "      \u001b[0m\u001b[34;1m\"adj_volume\"\u001b[0m\u001b[1;39m: \u001b[0m\u001b[0;39m179376569\u001b[0m\u001b[1;39m,\n",
            "      \u001b[0m\u001b[34;1m\"symbol\"\u001b[0m\u001b[1;39m: \u001b[0m\u001b[0;32m\"AAPL\"\u001b[0m\u001b[1;39m,\n",
            "      \u001b[0m\u001b[34;1m\"exchange\"\u001b[0m\u001b[1;39m: \u001b[0m\u001b[0;32m\"XNAS\"\u001b[0m\u001b[1;39m,\n",
            "      \u001b[0m\u001b[34;1m\"date\"\u001b[0m\u001b[1;39m: \u001b[0m\u001b[0;32m\"2020-09-11T00:00:00+0000\"\u001b[0m\u001b[1;39m\n",
            "    \u001b[1;39m}\u001b[0m\u001b[1;39m,\n",
            "    \u001b[1;39m{\n",
            "      \u001b[0m\u001b[34;1m\"open\"\u001b[0m\u001b[1;39m: \u001b[0m\u001b[0;39m120.36\u001b[0m\u001b[1;39m,\n",
            "      \u001b[0m\u001b[34;1m\"high\"\u001b[0m\u001b[1;39m: \u001b[0m\u001b[0;39m120.5\u001b[0m\u001b[1;39m,\n",
            "      \u001b[0m\u001b[34;1m\"low\"\u001b[0m\u001b[1;39m: \u001b[0m\u001b[0;39m112.5\u001b[0m\u001b[1;39m,\n",
            "      \u001b[0m\u001b[34;1m\"close\"\u001b[0m\u001b[1;39m: \u001b[0m\u001b[0;39m113.49\u001b[0m\u001b[1;39m,\n",
            "      \u001b[0m\u001b[34;1m\"volume\"\u001b[0m\u001b[1;39m: \u001b[0m\u001b[0;39m182274391\u001b[0m\u001b[1;39m,\n",
            "      \u001b[0m\u001b[34;1m\"adj_high\"\u001b[0m\u001b[1;39m: \u001b[0m\u001b[0;39m120.5\u001b[0m\u001b[1;39m,\n",
            "      \u001b[0m\u001b[34;1m\"adj_low\"\u001b[0m\u001b[1;39m: \u001b[0m\u001b[0;39m112.5\u001b[0m\u001b[1;39m,\n",
            "      \u001b[0m\u001b[34;1m\"adj_close\"\u001b[0m\u001b[1;39m: \u001b[0m\u001b[0;39m113.49\u001b[0m\u001b[1;39m,\n",
            "      \u001b[0m\u001b[34;1m\"adj_open\"\u001b[0m\u001b[1;39m: \u001b[0m\u001b[0;39m120.36\u001b[0m\u001b[1;39m,\n",
            "      \u001b[0m\u001b[34;1m\"adj_volume\"\u001b[0m\u001b[1;39m: \u001b[0m\u001b[0;39m182274391\u001b[0m\u001b[1;39m,\n",
            "      \u001b[0m\u001b[34;1m\"symbol\"\u001b[0m\u001b[1;39m: \u001b[0m\u001b[0;32m\"AAPL\"\u001b[0m\u001b[1;39m,\n",
            "      \u001b[0m\u001b[34;1m\"exchange\"\u001b[0m\u001b[1;39m: \u001b[0m\u001b[0;32m\"XNAS\"\u001b[0m\u001b[1;39m,\n",
            "      \u001b[0m\u001b[34;1m\"date\"\u001b[0m\u001b[1;39m: \u001b[0m\u001b[0;32m\"2020-09-10T00:00:00+0000\"\u001b[0m\u001b[1;39m\n",
            "    \u001b[1;39m}\u001b[0m\u001b[1;39m,\n",
            "    \u001b[1;39m{\n",
            "      \u001b[0m\u001b[34;1m\"open\"\u001b[0m\u001b[1;39m: \u001b[0m\u001b[0;39m117.26\u001b[0m\u001b[1;39m,\n",
            "      \u001b[0m\u001b[34;1m\"high\"\u001b[0m\u001b[1;39m: \u001b[0m\u001b[0;39m119.14\u001b[0m\u001b[1;39m,\n",
            "      \u001b[0m\u001b[34;1m\"low\"\u001b[0m\u001b[1;39m: \u001b[0m\u001b[0;39m115.26\u001b[0m\u001b[1;39m,\n",
            "      \u001b[0m\u001b[34;1m\"close\"\u001b[0m\u001b[1;39m: \u001b[0m\u001b[0;39m117.32\u001b[0m\u001b[1;39m,\n",
            "      \u001b[0m\u001b[34;1m\"volume\"\u001b[0m\u001b[1;39m: \u001b[0m\u001b[0;39m172144189\u001b[0m\u001b[1;39m,\n",
            "      \u001b[0m\u001b[34;1m\"adj_high\"\u001b[0m\u001b[1;39m: \u001b[0m\u001b[0;39m119.14\u001b[0m\u001b[1;39m,\n",
            "      \u001b[0m\u001b[34;1m\"adj_low\"\u001b[0m\u001b[1;39m: \u001b[0m\u001b[0;39m115.26\u001b[0m\u001b[1;39m,\n",
            "      \u001b[0m\u001b[34;1m\"adj_close\"\u001b[0m\u001b[1;39m: \u001b[0m\u001b[0;39m117.32\u001b[0m\u001b[1;39m,\n",
            "      \u001b[0m\u001b[34;1m\"adj_open\"\u001b[0m\u001b[1;39m: \u001b[0m\u001b[0;39m117.26\u001b[0m\u001b[1;39m,\n",
            "      \u001b[0m\u001b[34;1m\"adj_volume\"\u001b[0m\u001b[1;39m: \u001b[0m\u001b[0;39m172144189\u001b[0m\u001b[1;39m,\n",
            "      \u001b[0m\u001b[34;1m\"symbol\"\u001b[0m\u001b[1;39m: \u001b[0m\u001b[0;32m\"AAPL\"\u001b[0m\u001b[1;39m,\n",
            "      \u001b[0m\u001b[34;1m\"exchange\"\u001b[0m\u001b[1;39m: \u001b[0m\u001b[0;32m\"XNAS\"\u001b[0m\u001b[1;39m,\n",
            "      \u001b[0m\u001b[34;1m\"date\"\u001b[0m\u001b[1;39m: \u001b[0m\u001b[0;32m\"2020-09-09T00:00:00+0000\"\u001b[0m\u001b[1;39m\n",
            "    \u001b[1;39m}\u001b[0m\u001b[1;39m,\n",
            "    \u001b[1;39m{\n",
            "      \u001b[0m\u001b[34;1m\"open\"\u001b[0m\u001b[1;39m: \u001b[0m\u001b[0;39m113.95\u001b[0m\u001b[1;39m,\n",
            "      \u001b[0m\u001b[34;1m\"high\"\u001b[0m\u001b[1;39m: \u001b[0m\u001b[0;39m118.99\u001b[0m\u001b[1;39m,\n",
            "      \u001b[0m\u001b[34;1m\"low\"\u001b[0m\u001b[1;39m: \u001b[0m\u001b[0;39m112.68\u001b[0m\u001b[1;39m,\n",
            "      \u001b[0m\u001b[34;1m\"close\"\u001b[0m\u001b[1;39m: \u001b[0m\u001b[0;39m112.82\u001b[0m\u001b[1;39m,\n",
            "      \u001b[0m\u001b[34;1m\"volume\"\u001b[0m\u001b[1;39m: \u001b[0m\u001b[0;39m226149287\u001b[0m\u001b[1;39m,\n",
            "      \u001b[0m\u001b[34;1m\"adj_high\"\u001b[0m\u001b[1;39m: \u001b[0m\u001b[0;39m118.99\u001b[0m\u001b[1;39m,\n",
            "      \u001b[0m\u001b[34;1m\"adj_low\"\u001b[0m\u001b[1;39m: \u001b[0m\u001b[0;39m112.68\u001b[0m\u001b[1;39m,\n",
            "      \u001b[0m\u001b[34;1m\"adj_close\"\u001b[0m\u001b[1;39m: \u001b[0m\u001b[0;39m112.82\u001b[0m\u001b[1;39m,\n",
            "      \u001b[0m\u001b[34;1m\"adj_open\"\u001b[0m\u001b[1;39m: \u001b[0m\u001b[0;39m113.95\u001b[0m\u001b[1;39m,\n",
            "      \u001b[0m\u001b[34;1m\"adj_volume\"\u001b[0m\u001b[1;39m: \u001b[0m\u001b[0;39m226149287\u001b[0m\u001b[1;39m,\n",
            "      \u001b[0m\u001b[34;1m\"symbol\"\u001b[0m\u001b[1;39m: \u001b[0m\u001b[0;32m\"AAPL\"\u001b[0m\u001b[1;39m,\n",
            "      \u001b[0m\u001b[34;1m\"exchange\"\u001b[0m\u001b[1;39m: \u001b[0m\u001b[0;32m\"XNAS\"\u001b[0m\u001b[1;39m,\n",
            "      \u001b[0m\u001b[34;1m\"date\"\u001b[0m\u001b[1;39m: \u001b[0m\u001b[0;32m\"2020-09-08T00:00:00+0000\"\u001b[0m\u001b[1;39m\n",
            "    \u001b[1;39m}\u001b[0m\u001b[1;39m,\n",
            "    \u001b[1;39m{\n",
            "      \u001b[0m\u001b[34;1m\"open\"\u001b[0m\u001b[1;39m: \u001b[0m\u001b[0;39m120.07\u001b[0m\u001b[1;39m,\n",
            "      \u001b[0m\u001b[34;1m\"high\"\u001b[0m\u001b[1;39m: \u001b[0m\u001b[0;39m123.7\u001b[0m\u001b[1;39m,\n",
            "      \u001b[0m\u001b[34;1m\"low\"\u001b[0m\u001b[1;39m: \u001b[0m\u001b[0;39m110.89\u001b[0m\u001b[1;39m,\n",
            "      \u001b[0m\u001b[34;1m\"close\"\u001b[0m\u001b[1;39m: \u001b[0m\u001b[0;39m120.96\u001b[0m\u001b[1;39m,\n",
            "      \u001b[0m\u001b[34;1m\"volume\"\u001b[0m\u001b[1;39m: \u001b[0m\u001b[0;39m326926347\u001b[0m\u001b[1;39m,\n",
            "      \u001b[0m\u001b[34;1m\"adj_high\"\u001b[0m\u001b[1;39m: \u001b[0m\u001b[0;39m123.7\u001b[0m\u001b[1;39m,\n",
            "      \u001b[0m\u001b[34;1m\"adj_low\"\u001b[0m\u001b[1;39m: \u001b[0m\u001b[0;39m110.89\u001b[0m\u001b[1;39m,\n",
            "      \u001b[0m\u001b[34;1m\"adj_close\"\u001b[0m\u001b[1;39m: \u001b[0m\u001b[0;39m120.96\u001b[0m\u001b[1;39m,\n",
            "      \u001b[0m\u001b[34;1m\"adj_open\"\u001b[0m\u001b[1;39m: \u001b[0m\u001b[0;39m120.07\u001b[0m\u001b[1;39m,\n",
            "      \u001b[0m\u001b[34;1m\"adj_volume\"\u001b[0m\u001b[1;39m: \u001b[0m\u001b[0;39m326926347\u001b[0m\u001b[1;39m,\n",
            "      \u001b[0m\u001b[34;1m\"symbol\"\u001b[0m\u001b[1;39m: \u001b[0m\u001b[0;32m\"AAPL\"\u001b[0m\u001b[1;39m,\n",
            "      \u001b[0m\u001b[34;1m\"exchange\"\u001b[0m\u001b[1;39m: \u001b[0m\u001b[0;32m\"XNAS\"\u001b[0m\u001b[1;39m,\n",
            "      \u001b[0m\u001b[34;1m\"date\"\u001b[0m\u001b[1;39m: \u001b[0m\u001b[0;32m\"2020-09-04T00:00:00+0000\"\u001b[0m\u001b[1;39m\n",
            "    \u001b[1;39m}\u001b[0m\u001b[1;39m,\n",
            "    \u001b[1;39m{\n",
            "      \u001b[0m\u001b[34;1m\"open\"\u001b[0m\u001b[1;39m: \u001b[0m\u001b[0;39m126.91\u001b[0m\u001b[1;39m,\n",
            "      \u001b[0m\u001b[34;1m\"high\"\u001b[0m\u001b[1;39m: \u001b[0m\u001b[0;39m128.84\u001b[0m\u001b[1;39m,\n",
            "      \u001b[0m\u001b[34;1m\"low\"\u001b[0m\u001b[1;39m: \u001b[0m\u001b[0;39m120.5\u001b[0m\u001b[1;39m,\n",
            "      \u001b[0m\u001b[34;1m\"close\"\u001b[0m\u001b[1;39m: \u001b[0m\u001b[0;39m120.88\u001b[0m\u001b[1;39m,\n",
            "      \u001b[0m\u001b[34;1m\"volume\"\u001b[0m\u001b[1;39m: \u001b[0m\u001b[0;39m250623616\u001b[0m\u001b[1;39m,\n",
            "      \u001b[0m\u001b[34;1m\"adj_high\"\u001b[0m\u001b[1;39m: \u001b[0m\u001b[0;39m128.84\u001b[0m\u001b[1;39m,\n",
            "      \u001b[0m\u001b[34;1m\"adj_low\"\u001b[0m\u001b[1;39m: \u001b[0m\u001b[0;39m120.5\u001b[0m\u001b[1;39m,\n",
            "      \u001b[0m\u001b[34;1m\"adj_close\"\u001b[0m\u001b[1;39m: \u001b[0m\u001b[0;39m120.88\u001b[0m\u001b[1;39m,\n",
            "      \u001b[0m\u001b[34;1m\"adj_open\"\u001b[0m\u001b[1;39m: \u001b[0m\u001b[0;39m126.91\u001b[0m\u001b[1;39m,\n",
            "      \u001b[0m\u001b[34;1m\"adj_volume\"\u001b[0m\u001b[1;39m: \u001b[0m\u001b[0;39m250623616\u001b[0m\u001b[1;39m,\n",
            "      \u001b[0m\u001b[34;1m\"symbol\"\u001b[0m\u001b[1;39m: \u001b[0m\u001b[0;32m\"AAPL\"\u001b[0m\u001b[1;39m,\n",
            "      \u001b[0m\u001b[34;1m\"exchange\"\u001b[0m\u001b[1;39m: \u001b[0m\u001b[0;32m\"XNAS\"\u001b[0m\u001b[1;39m,\n",
            "      \u001b[0m\u001b[34;1m\"date\"\u001b[0m\u001b[1;39m: \u001b[0m\u001b[0;32m\"2020-09-03T00:00:00+0000\"\u001b[0m\u001b[1;39m\n",
            "    \u001b[1;39m}\u001b[0m\u001b[1;39m,\n",
            "    \u001b[1;39m{\n",
            "      \u001b[0m\u001b[34;1m\"open\"\u001b[0m\u001b[1;39m: \u001b[0m\u001b[0;39m137.59\u001b[0m\u001b[1;39m,\n",
            "      \u001b[0m\u001b[34;1m\"high\"\u001b[0m\u001b[1;39m: \u001b[0m\u001b[0;39m137.98\u001b[0m\u001b[1;39m,\n",
            "      \u001b[0m\u001b[34;1m\"low\"\u001b[0m\u001b[1;39m: \u001b[0m\u001b[0;39m127\u001b[0m\u001b[1;39m,\n",
            "      \u001b[0m\u001b[34;1m\"close\"\u001b[0m\u001b[1;39m: \u001b[0m\u001b[0;39m131.4\u001b[0m\u001b[1;39m,\n",
            "      \u001b[0m\u001b[34;1m\"volume\"\u001b[0m\u001b[1;39m: \u001b[0m\u001b[0;39m198233370\u001b[0m\u001b[1;39m,\n",
            "      \u001b[0m\u001b[34;1m\"adj_high\"\u001b[0m\u001b[1;39m: \u001b[0m\u001b[0;39m137.98\u001b[0m\u001b[1;39m,\n",
            "      \u001b[0m\u001b[34;1m\"adj_low\"\u001b[0m\u001b[1;39m: \u001b[0m\u001b[0;39m127\u001b[0m\u001b[1;39m,\n",
            "      \u001b[0m\u001b[34;1m\"adj_close\"\u001b[0m\u001b[1;39m: \u001b[0m\u001b[0;39m131.4\u001b[0m\u001b[1;39m,\n",
            "      \u001b[0m\u001b[34;1m\"adj_open\"\u001b[0m\u001b[1;39m: \u001b[0m\u001b[0;39m137.59\u001b[0m\u001b[1;39m,\n",
            "      \u001b[0m\u001b[34;1m\"adj_volume\"\u001b[0m\u001b[1;39m: \u001b[0m\u001b[0;39m198233370\u001b[0m\u001b[1;39m,\n",
            "      \u001b[0m\u001b[34;1m\"symbol\"\u001b[0m\u001b[1;39m: \u001b[0m\u001b[0;32m\"AAPL\"\u001b[0m\u001b[1;39m,\n",
            "      \u001b[0m\u001b[34;1m\"exchange\"\u001b[0m\u001b[1;39m: \u001b[0m\u001b[0;32m\"XNAS\"\u001b[0m\u001b[1;39m,\n",
            "      \u001b[0m\u001b[34;1m\"date\"\u001b[0m\u001b[1;39m: \u001b[0m\u001b[0;32m\"2020-09-02T00:00:00+0000\"\u001b[0m\u001b[1;39m\n",
            "    \u001b[1;39m}\u001b[0m\u001b[1;39m,\n",
            "    \u001b[1;39m{\n",
            "      \u001b[0m\u001b[34;1m\"open\"\u001b[0m\u001b[1;39m: \u001b[0m\u001b[0;39m132.76\u001b[0m\u001b[1;39m,\n",
            "      \u001b[0m\u001b[34;1m\"high\"\u001b[0m\u001b[1;39m: \u001b[0m\u001b[0;39m134.8\u001b[0m\u001b[1;39m,\n",
            "      \u001b[0m\u001b[34;1m\"low\"\u001b[0m\u001b[1;39m: \u001b[0m\u001b[0;39m130.53\u001b[0m\u001b[1;39m,\n",
            "      \u001b[0m\u001b[34;1m\"close\"\u001b[0m\u001b[1;39m: \u001b[0m\u001b[0;39m134.18\u001b[0m\u001b[1;39m,\n",
            "      \u001b[0m\u001b[34;1m\"volume\"\u001b[0m\u001b[1;39m: \u001b[0m\u001b[0;39m150698946\u001b[0m\u001b[1;39m,\n",
            "      \u001b[0m\u001b[34;1m\"adj_high\"\u001b[0m\u001b[1;39m: \u001b[0m\u001b[0;39m134.8\u001b[0m\u001b[1;39m,\n",
            "      \u001b[0m\u001b[34;1m\"adj_low\"\u001b[0m\u001b[1;39m: \u001b[0m\u001b[0;39m130.53\u001b[0m\u001b[1;39m,\n",
            "      \u001b[0m\u001b[34;1m\"adj_close\"\u001b[0m\u001b[1;39m: \u001b[0m\u001b[0;39m134.18\u001b[0m\u001b[1;39m,\n",
            "      \u001b[0m\u001b[34;1m\"adj_open\"\u001b[0m\u001b[1;39m: \u001b[0m\u001b[0;39m132.76\u001b[0m\u001b[1;39m,\n",
            "      \u001b[0m\u001b[34;1m\"adj_volume\"\u001b[0m\u001b[1;39m: \u001b[0m\u001b[0;39m150698946\u001b[0m\u001b[1;39m,\n",
            "      \u001b[0m\u001b[34;1m\"symbol\"\u001b[0m\u001b[1;39m: \u001b[0m\u001b[0;32m\"AAPL\"\u001b[0m\u001b[1;39m,\n",
            "      \u001b[0m\u001b[34;1m\"exchange\"\u001b[0m\u001b[1;39m: \u001b[0m\u001b[0;32m\"XNAS\"\u001b[0m\u001b[1;39m,\n",
            "      \u001b[0m\u001b[34;1m\"date\"\u001b[0m\u001b[1;39m: \u001b[0m\u001b[0;32m\"2020-09-01T00:00:00+0000\"\u001b[0m\u001b[1;39m\n",
            "    \u001b[1;39m}\u001b[0m\u001b[1;39m\n",
            "  \u001b[1;39m]\u001b[0m\u001b[1;39m\n",
            "\u001b[1;39m}\u001b[0m\n"
          ],
          "name": "stdout"
        }
      ]
    },
    {
      "cell_type": "markdown",
      "metadata": {
        "id": "o_GbBk8x9gRl"
      },
      "source": [
        "Filter the data based on jq '.key'. In this case, the key from the JSON file is  \"data\""
      ]
    },
    {
      "cell_type": "code",
      "metadata": {
        "id": "2Co8c7hP8NYS",
        "outputId": "17095833-1712-45b8-f78e-c7d4d09c2b2c",
        "colab": {
          "base_uri": "https://localhost:8080/",
          "height": 1000
        }
      },
      "source": [
        "!jq '.data' <apple-ticker.json"
      ],
      "execution_count": null,
      "outputs": [
        {
          "output_type": "stream",
          "text": [
            "\u001b[1;39m[\n",
            "  \u001b[1;39m{\n",
            "    \u001b[0m\u001b[34;1m\"open\"\u001b[0m\u001b[1;39m: \u001b[0m\u001b[0;39m115.01\u001b[0m\u001b[1;39m,\n",
            "    \u001b[0m\u001b[34;1m\"high\"\u001b[0m\u001b[1;39m: \u001b[0m\u001b[0;39m115.32\u001b[0m\u001b[1;39m,\n",
            "    \u001b[0m\u001b[34;1m\"low\"\u001b[0m\u001b[1;39m: \u001b[0m\u001b[0;39m112.78\u001b[0m\u001b[1;39m,\n",
            "    \u001b[0m\u001b[34;1m\"close\"\u001b[0m\u001b[1;39m: \u001b[0m\u001b[0;39m114.96\u001b[0m\u001b[1;39m,\n",
            "    \u001b[0m\u001b[34;1m\"volume\"\u001b[0m\u001b[1;39m: \u001b[0m\u001b[0;39m136441425\u001b[0m\u001b[1;39m,\n",
            "    \u001b[0m\u001b[34;1m\"adj_high\"\u001b[0m\u001b[1;39m: \u001b[0m\u001b[0;39m115.32\u001b[0m\u001b[1;39m,\n",
            "    \u001b[0m\u001b[34;1m\"adj_low\"\u001b[0m\u001b[1;39m: \u001b[0m\u001b[0;39m112.78\u001b[0m\u001b[1;39m,\n",
            "    \u001b[0m\u001b[34;1m\"adj_close\"\u001b[0m\u001b[1;39m: \u001b[0m\u001b[0;39m114.96\u001b[0m\u001b[1;39m,\n",
            "    \u001b[0m\u001b[34;1m\"adj_open\"\u001b[0m\u001b[1;39m: \u001b[0m\u001b[0;39m115.01\u001b[0m\u001b[1;39m,\n",
            "    \u001b[0m\u001b[34;1m\"adj_volume\"\u001b[0m\u001b[1;39m: \u001b[0m\u001b[0;39m136441425\u001b[0m\u001b[1;39m,\n",
            "    \u001b[0m\u001b[34;1m\"symbol\"\u001b[0m\u001b[1;39m: \u001b[0m\u001b[0;32m\"AAPL\"\u001b[0m\u001b[1;39m,\n",
            "    \u001b[0m\u001b[34;1m\"exchange\"\u001b[0m\u001b[1;39m: \u001b[0m\u001b[0;32m\"XNAS\"\u001b[0m\u001b[1;39m,\n",
            "    \u001b[0m\u001b[34;1m\"date\"\u001b[0m\u001b[1;39m: \u001b[0m\u001b[0;32m\"2020-09-28T00:00:00+0000\"\u001b[0m\u001b[1;39m\n",
            "  \u001b[1;39m}\u001b[0m\u001b[1;39m,\n",
            "  \u001b[1;39m{\n",
            "    \u001b[0m\u001b[34;1m\"open\"\u001b[0m\u001b[1;39m: \u001b[0m\u001b[0;39m108.43\u001b[0m\u001b[1;39m,\n",
            "    \u001b[0m\u001b[34;1m\"high\"\u001b[0m\u001b[1;39m: \u001b[0m\u001b[0;39m112.44\u001b[0m\u001b[1;39m,\n",
            "    \u001b[0m\u001b[34;1m\"low\"\u001b[0m\u001b[1;39m: \u001b[0m\u001b[0;39m107.67\u001b[0m\u001b[1;39m,\n",
            "    \u001b[0m\u001b[34;1m\"close\"\u001b[0m\u001b[1;39m: \u001b[0m\u001b[0;39m112.28\u001b[0m\u001b[1;39m,\n",
            "    \u001b[0m\u001b[34;1m\"volume\"\u001b[0m\u001b[1;39m: \u001b[0m\u001b[0;39m149981441\u001b[0m\u001b[1;39m,\n",
            "    \u001b[0m\u001b[34;1m\"adj_high\"\u001b[0m\u001b[1;39m: \u001b[0m\u001b[0;39m112.44\u001b[0m\u001b[1;39m,\n",
            "    \u001b[0m\u001b[34;1m\"adj_low\"\u001b[0m\u001b[1;39m: \u001b[0m\u001b[0;39m107.67\u001b[0m\u001b[1;39m,\n",
            "    \u001b[0m\u001b[34;1m\"adj_close\"\u001b[0m\u001b[1;39m: \u001b[0m\u001b[0;39m112.28\u001b[0m\u001b[1;39m,\n",
            "    \u001b[0m\u001b[34;1m\"adj_open\"\u001b[0m\u001b[1;39m: \u001b[0m\u001b[0;39m108.43\u001b[0m\u001b[1;39m,\n",
            "    \u001b[0m\u001b[34;1m\"adj_volume\"\u001b[0m\u001b[1;39m: \u001b[0m\u001b[0;39m149981441\u001b[0m\u001b[1;39m,\n",
            "    \u001b[0m\u001b[34;1m\"symbol\"\u001b[0m\u001b[1;39m: \u001b[0m\u001b[0;32m\"AAPL\"\u001b[0m\u001b[1;39m,\n",
            "    \u001b[0m\u001b[34;1m\"exchange\"\u001b[0m\u001b[1;39m: \u001b[0m\u001b[0;32m\"XNAS\"\u001b[0m\u001b[1;39m,\n",
            "    \u001b[0m\u001b[34;1m\"date\"\u001b[0m\u001b[1;39m: \u001b[0m\u001b[0;32m\"2020-09-25T00:00:00+0000\"\u001b[0m\u001b[1;39m\n",
            "  \u001b[1;39m}\u001b[0m\u001b[1;39m,\n",
            "  \u001b[1;39m{\n",
            "    \u001b[0m\u001b[34;1m\"open\"\u001b[0m\u001b[1;39m: \u001b[0m\u001b[0;39m105.17\u001b[0m\u001b[1;39m,\n",
            "    \u001b[0m\u001b[34;1m\"high\"\u001b[0m\u001b[1;39m: \u001b[0m\u001b[0;39m110.25\u001b[0m\u001b[1;39m,\n",
            "    \u001b[0m\u001b[34;1m\"low\"\u001b[0m\u001b[1;39m: \u001b[0m\u001b[0;39m105\u001b[0m\u001b[1;39m,\n",
            "    \u001b[0m\u001b[34;1m\"close\"\u001b[0m\u001b[1;39m: \u001b[0m\u001b[0;39m108.22\u001b[0m\u001b[1;39m,\n",
            "    \u001b[0m\u001b[34;1m\"volume\"\u001b[0m\u001b[1;39m: \u001b[0m\u001b[0;39m167743349\u001b[0m\u001b[1;39m,\n",
            "    \u001b[0m\u001b[34;1m\"adj_high\"\u001b[0m\u001b[1;39m: \u001b[0m\u001b[0;39m110.25\u001b[0m\u001b[1;39m,\n",
            "    \u001b[0m\u001b[34;1m\"adj_low\"\u001b[0m\u001b[1;39m: \u001b[0m\u001b[0;39m105\u001b[0m\u001b[1;39m,\n",
            "    \u001b[0m\u001b[34;1m\"adj_close\"\u001b[0m\u001b[1;39m: \u001b[0m\u001b[0;39m108.22\u001b[0m\u001b[1;39m,\n",
            "    \u001b[0m\u001b[34;1m\"adj_open\"\u001b[0m\u001b[1;39m: \u001b[0m\u001b[0;39m105.17\u001b[0m\u001b[1;39m,\n",
            "    \u001b[0m\u001b[34;1m\"adj_volume\"\u001b[0m\u001b[1;39m: \u001b[0m\u001b[0;39m167743349\u001b[0m\u001b[1;39m,\n",
            "    \u001b[0m\u001b[34;1m\"symbol\"\u001b[0m\u001b[1;39m: \u001b[0m\u001b[0;32m\"AAPL\"\u001b[0m\u001b[1;39m,\n",
            "    \u001b[0m\u001b[34;1m\"exchange\"\u001b[0m\u001b[1;39m: \u001b[0m\u001b[0;32m\"XNAS\"\u001b[0m\u001b[1;39m,\n",
            "    \u001b[0m\u001b[34;1m\"date\"\u001b[0m\u001b[1;39m: \u001b[0m\u001b[0;32m\"2020-09-24T00:00:00+0000\"\u001b[0m\u001b[1;39m\n",
            "  \u001b[1;39m}\u001b[0m\u001b[1;39m,\n",
            "  \u001b[1;39m{\n",
            "    \u001b[0m\u001b[34;1m\"open\"\u001b[0m\u001b[1;39m: \u001b[0m\u001b[0;39m111.62\u001b[0m\u001b[1;39m,\n",
            "    \u001b[0m\u001b[34;1m\"high\"\u001b[0m\u001b[1;39m: \u001b[0m\u001b[0;39m112.11\u001b[0m\u001b[1;39m,\n",
            "    \u001b[0m\u001b[34;1m\"low\"\u001b[0m\u001b[1;39m: \u001b[0m\u001b[0;39m106.77\u001b[0m\u001b[1;39m,\n",
            "    \u001b[0m\u001b[34;1m\"close\"\u001b[0m\u001b[1;39m: \u001b[0m\u001b[0;39m107.12\u001b[0m\u001b[1;39m,\n",
            "    \u001b[0m\u001b[34;1m\"volume\"\u001b[0m\u001b[1;39m: \u001b[0m\u001b[0;39m150718671\u001b[0m\u001b[1;39m,\n",
            "    \u001b[0m\u001b[34;1m\"adj_high\"\u001b[0m\u001b[1;39m: \u001b[0m\u001b[0;39m112.11\u001b[0m\u001b[1;39m,\n",
            "    \u001b[0m\u001b[34;1m\"adj_low\"\u001b[0m\u001b[1;39m: \u001b[0m\u001b[0;39m106.77\u001b[0m\u001b[1;39m,\n",
            "    \u001b[0m\u001b[34;1m\"adj_close\"\u001b[0m\u001b[1;39m: \u001b[0m\u001b[0;39m107.12\u001b[0m\u001b[1;39m,\n",
            "    \u001b[0m\u001b[34;1m\"adj_open\"\u001b[0m\u001b[1;39m: \u001b[0m\u001b[0;39m111.62\u001b[0m\u001b[1;39m,\n",
            "    \u001b[0m\u001b[34;1m\"adj_volume\"\u001b[0m\u001b[1;39m: \u001b[0m\u001b[0;39m150718671\u001b[0m\u001b[1;39m,\n",
            "    \u001b[0m\u001b[34;1m\"symbol\"\u001b[0m\u001b[1;39m: \u001b[0m\u001b[0;32m\"AAPL\"\u001b[0m\u001b[1;39m,\n",
            "    \u001b[0m\u001b[34;1m\"exchange\"\u001b[0m\u001b[1;39m: \u001b[0m\u001b[0;32m\"XNAS\"\u001b[0m\u001b[1;39m,\n",
            "    \u001b[0m\u001b[34;1m\"date\"\u001b[0m\u001b[1;39m: \u001b[0m\u001b[0;32m\"2020-09-23T00:00:00+0000\"\u001b[0m\u001b[1;39m\n",
            "  \u001b[1;39m}\u001b[0m\u001b[1;39m,\n",
            "  \u001b[1;39m{\n",
            "    \u001b[0m\u001b[34;1m\"open\"\u001b[0m\u001b[1;39m: \u001b[0m\u001b[0;39m112.68\u001b[0m\u001b[1;39m,\n",
            "    \u001b[0m\u001b[34;1m\"high\"\u001b[0m\u001b[1;39m: \u001b[0m\u001b[0;39m112.86\u001b[0m\u001b[1;39m,\n",
            "    \u001b[0m\u001b[34;1m\"low\"\u001b[0m\u001b[1;39m: \u001b[0m\u001b[0;39m109.16\u001b[0m\u001b[1;39m,\n",
            "    \u001b[0m\u001b[34;1m\"close\"\u001b[0m\u001b[1;39m: \u001b[0m\u001b[0;39m111.81\u001b[0m\u001b[1;39m,\n",
            "    \u001b[0m\u001b[34;1m\"volume\"\u001b[0m\u001b[1;39m: \u001b[0m\u001b[0;39m183055373\u001b[0m\u001b[1;39m,\n",
            "    \u001b[0m\u001b[34;1m\"adj_high\"\u001b[0m\u001b[1;39m: \u001b[0m\u001b[0;39m112.86\u001b[0m\u001b[1;39m,\n",
            "    \u001b[0m\u001b[34;1m\"adj_low\"\u001b[0m\u001b[1;39m: \u001b[0m\u001b[0;39m109.16\u001b[0m\u001b[1;39m,\n",
            "    \u001b[0m\u001b[34;1m\"adj_close\"\u001b[0m\u001b[1;39m: \u001b[0m\u001b[0;39m111.81\u001b[0m\u001b[1;39m,\n",
            "    \u001b[0m\u001b[34;1m\"adj_open\"\u001b[0m\u001b[1;39m: \u001b[0m\u001b[0;39m112.68\u001b[0m\u001b[1;39m,\n",
            "    \u001b[0m\u001b[34;1m\"adj_volume\"\u001b[0m\u001b[1;39m: \u001b[0m\u001b[0;39m183055373\u001b[0m\u001b[1;39m,\n",
            "    \u001b[0m\u001b[34;1m\"symbol\"\u001b[0m\u001b[1;39m: \u001b[0m\u001b[0;32m\"AAPL\"\u001b[0m\u001b[1;39m,\n",
            "    \u001b[0m\u001b[34;1m\"exchange\"\u001b[0m\u001b[1;39m: \u001b[0m\u001b[0;32m\"XNAS\"\u001b[0m\u001b[1;39m,\n",
            "    \u001b[0m\u001b[34;1m\"date\"\u001b[0m\u001b[1;39m: \u001b[0m\u001b[0;32m\"2020-09-22T00:00:00+0000\"\u001b[0m\u001b[1;39m\n",
            "  \u001b[1;39m}\u001b[0m\u001b[1;39m,\n",
            "  \u001b[1;39m{\n",
            "    \u001b[0m\u001b[34;1m\"open\"\u001b[0m\u001b[1;39m: \u001b[0m\u001b[0;39m104.54\u001b[0m\u001b[1;39m,\n",
            "    \u001b[0m\u001b[34;1m\"high\"\u001b[0m\u001b[1;39m: \u001b[0m\u001b[0;39m110.19\u001b[0m\u001b[1;39m,\n",
            "    \u001b[0m\u001b[34;1m\"low\"\u001b[0m\u001b[1;39m: \u001b[0m\u001b[0;39m103.1\u001b[0m\u001b[1;39m,\n",
            "    \u001b[0m\u001b[34;1m\"close\"\u001b[0m\u001b[1;39m: \u001b[0m\u001b[0;39m110.08\u001b[0m\u001b[1;39m,\n",
            "    \u001b[0m\u001b[34;1m\"volume\"\u001b[0m\u001b[1;39m: \u001b[0m\u001b[0;39m193321297\u001b[0m\u001b[1;39m,\n",
            "    \u001b[0m\u001b[34;1m\"adj_high\"\u001b[0m\u001b[1;39m: \u001b[0m\u001b[0;39m110.19\u001b[0m\u001b[1;39m,\n",
            "    \u001b[0m\u001b[34;1m\"adj_low\"\u001b[0m\u001b[1;39m: \u001b[0m\u001b[0;39m103.1\u001b[0m\u001b[1;39m,\n",
            "    \u001b[0m\u001b[34;1m\"adj_close\"\u001b[0m\u001b[1;39m: \u001b[0m\u001b[0;39m110.08\u001b[0m\u001b[1;39m,\n",
            "    \u001b[0m\u001b[34;1m\"adj_open\"\u001b[0m\u001b[1;39m: \u001b[0m\u001b[0;39m104.54\u001b[0m\u001b[1;39m,\n",
            "    \u001b[0m\u001b[34;1m\"adj_volume\"\u001b[0m\u001b[1;39m: \u001b[0m\u001b[0;39m193321297\u001b[0m\u001b[1;39m,\n",
            "    \u001b[0m\u001b[34;1m\"symbol\"\u001b[0m\u001b[1;39m: \u001b[0m\u001b[0;32m\"AAPL\"\u001b[0m\u001b[1;39m,\n",
            "    \u001b[0m\u001b[34;1m\"exchange\"\u001b[0m\u001b[1;39m: \u001b[0m\u001b[0;32m\"XNAS\"\u001b[0m\u001b[1;39m,\n",
            "    \u001b[0m\u001b[34;1m\"date\"\u001b[0m\u001b[1;39m: \u001b[0m\u001b[0;32m\"2020-09-21T00:00:00+0000\"\u001b[0m\u001b[1;39m\n",
            "  \u001b[1;39m}\u001b[0m\u001b[1;39m,\n",
            "  \u001b[1;39m{\n",
            "    \u001b[0m\u001b[34;1m\"open\"\u001b[0m\u001b[1;39m: \u001b[0m\u001b[0;39m110.4\u001b[0m\u001b[1;39m,\n",
            "    \u001b[0m\u001b[34;1m\"high\"\u001b[0m\u001b[1;39m: \u001b[0m\u001b[0;39m110.88\u001b[0m\u001b[1;39m,\n",
            "    \u001b[0m\u001b[34;1m\"low\"\u001b[0m\u001b[1;39m: \u001b[0m\u001b[0;39m106.09\u001b[0m\u001b[1;39m,\n",
            "    \u001b[0m\u001b[34;1m\"close\"\u001b[0m\u001b[1;39m: \u001b[0m\u001b[0;39m106.84\u001b[0m\u001b[1;39m,\n",
            "    \u001b[0m\u001b[34;1m\"volume\"\u001b[0m\u001b[1;39m: \u001b[0m\u001b[0;39m284477372\u001b[0m\u001b[1;39m,\n",
            "    \u001b[0m\u001b[34;1m\"adj_high\"\u001b[0m\u001b[1;39m: \u001b[0m\u001b[0;39m110.88\u001b[0m\u001b[1;39m,\n",
            "    \u001b[0m\u001b[34;1m\"adj_low\"\u001b[0m\u001b[1;39m: \u001b[0m\u001b[0;39m106.09\u001b[0m\u001b[1;39m,\n",
            "    \u001b[0m\u001b[34;1m\"adj_close\"\u001b[0m\u001b[1;39m: \u001b[0m\u001b[0;39m106.84\u001b[0m\u001b[1;39m,\n",
            "    \u001b[0m\u001b[34;1m\"adj_open\"\u001b[0m\u001b[1;39m: \u001b[0m\u001b[0;39m110.4\u001b[0m\u001b[1;39m,\n",
            "    \u001b[0m\u001b[34;1m\"adj_volume\"\u001b[0m\u001b[1;39m: \u001b[0m\u001b[0;39m284477372\u001b[0m\u001b[1;39m,\n",
            "    \u001b[0m\u001b[34;1m\"symbol\"\u001b[0m\u001b[1;39m: \u001b[0m\u001b[0;32m\"AAPL\"\u001b[0m\u001b[1;39m,\n",
            "    \u001b[0m\u001b[34;1m\"exchange\"\u001b[0m\u001b[1;39m: \u001b[0m\u001b[0;32m\"XNAS\"\u001b[0m\u001b[1;39m,\n",
            "    \u001b[0m\u001b[34;1m\"date\"\u001b[0m\u001b[1;39m: \u001b[0m\u001b[0;32m\"2020-09-18T00:00:00+0000\"\u001b[0m\u001b[1;39m\n",
            "  \u001b[1;39m}\u001b[0m\u001b[1;39m,\n",
            "  \u001b[1;39m{\n",
            "    \u001b[0m\u001b[34;1m\"open\"\u001b[0m\u001b[1;39m: \u001b[0m\u001b[0;39m109.72\u001b[0m\u001b[1;39m,\n",
            "    \u001b[0m\u001b[34;1m\"high\"\u001b[0m\u001b[1;39m: \u001b[0m\u001b[0;39m112.2\u001b[0m\u001b[1;39m,\n",
            "    \u001b[0m\u001b[34;1m\"low\"\u001b[0m\u001b[1;39m: \u001b[0m\u001b[0;39m108.71\u001b[0m\u001b[1;39m,\n",
            "    \u001b[0m\u001b[34;1m\"close\"\u001b[0m\u001b[1;39m: \u001b[0m\u001b[0;39m110.34\u001b[0m\u001b[1;39m,\n",
            "    \u001b[0m\u001b[34;1m\"volume\"\u001b[0m\u001b[1;39m: \u001b[0m\u001b[0;39m176909480\u001b[0m\u001b[1;39m,\n",
            "    \u001b[0m\u001b[34;1m\"adj_high\"\u001b[0m\u001b[1;39m: \u001b[0m\u001b[0;39m112.2\u001b[0m\u001b[1;39m,\n",
            "    \u001b[0m\u001b[34;1m\"adj_low\"\u001b[0m\u001b[1;39m: \u001b[0m\u001b[0;39m108.71\u001b[0m\u001b[1;39m,\n",
            "    \u001b[0m\u001b[34;1m\"adj_close\"\u001b[0m\u001b[1;39m: \u001b[0m\u001b[0;39m110.34\u001b[0m\u001b[1;39m,\n",
            "    \u001b[0m\u001b[34;1m\"adj_open\"\u001b[0m\u001b[1;39m: \u001b[0m\u001b[0;39m109.72\u001b[0m\u001b[1;39m,\n",
            "    \u001b[0m\u001b[34;1m\"adj_volume\"\u001b[0m\u001b[1;39m: \u001b[0m\u001b[0;39m176909480\u001b[0m\u001b[1;39m,\n",
            "    \u001b[0m\u001b[34;1m\"symbol\"\u001b[0m\u001b[1;39m: \u001b[0m\u001b[0;32m\"AAPL\"\u001b[0m\u001b[1;39m,\n",
            "    \u001b[0m\u001b[34;1m\"exchange\"\u001b[0m\u001b[1;39m: \u001b[0m\u001b[0;32m\"XNAS\"\u001b[0m\u001b[1;39m,\n",
            "    \u001b[0m\u001b[34;1m\"date\"\u001b[0m\u001b[1;39m: \u001b[0m\u001b[0;32m\"2020-09-17T00:00:00+0000\"\u001b[0m\u001b[1;39m\n",
            "  \u001b[1;39m}\u001b[0m\u001b[1;39m,\n",
            "  \u001b[1;39m{\n",
            "    \u001b[0m\u001b[34;1m\"open\"\u001b[0m\u001b[1;39m: \u001b[0m\u001b[0;39m115.23\u001b[0m\u001b[1;39m,\n",
            "    \u001b[0m\u001b[34;1m\"high\"\u001b[0m\u001b[1;39m: \u001b[0m\u001b[0;39m116\u001b[0m\u001b[1;39m,\n",
            "    \u001b[0m\u001b[34;1m\"low\"\u001b[0m\u001b[1;39m: \u001b[0m\u001b[0;39m112.04\u001b[0m\u001b[1;39m,\n",
            "    \u001b[0m\u001b[34;1m\"close\"\u001b[0m\u001b[1;39m: \u001b[0m\u001b[0;39m112.13\u001b[0m\u001b[1;39m,\n",
            "    \u001b[0m\u001b[34;1m\"volume\"\u001b[0m\u001b[1;39m: \u001b[0m\u001b[0;39m154066350\u001b[0m\u001b[1;39m,\n",
            "    \u001b[0m\u001b[34;1m\"adj_high\"\u001b[0m\u001b[1;39m: \u001b[0m\u001b[0;39m116\u001b[0m\u001b[1;39m,\n",
            "    \u001b[0m\u001b[34;1m\"adj_low\"\u001b[0m\u001b[1;39m: \u001b[0m\u001b[0;39m112.04\u001b[0m\u001b[1;39m,\n",
            "    \u001b[0m\u001b[34;1m\"adj_close\"\u001b[0m\u001b[1;39m: \u001b[0m\u001b[0;39m112.13\u001b[0m\u001b[1;39m,\n",
            "    \u001b[0m\u001b[34;1m\"adj_open\"\u001b[0m\u001b[1;39m: \u001b[0m\u001b[0;39m115.23\u001b[0m\u001b[1;39m,\n",
            "    \u001b[0m\u001b[34;1m\"adj_volume\"\u001b[0m\u001b[1;39m: \u001b[0m\u001b[0;39m154066350\u001b[0m\u001b[1;39m,\n",
            "    \u001b[0m\u001b[34;1m\"symbol\"\u001b[0m\u001b[1;39m: \u001b[0m\u001b[0;32m\"AAPL\"\u001b[0m\u001b[1;39m,\n",
            "    \u001b[0m\u001b[34;1m\"exchange\"\u001b[0m\u001b[1;39m: \u001b[0m\u001b[0;32m\"XNAS\"\u001b[0m\u001b[1;39m,\n",
            "    \u001b[0m\u001b[34;1m\"date\"\u001b[0m\u001b[1;39m: \u001b[0m\u001b[0;32m\"2020-09-16T00:00:00+0000\"\u001b[0m\u001b[1;39m\n",
            "  \u001b[1;39m}\u001b[0m\u001b[1;39m,\n",
            "  \u001b[1;39m{\n",
            "    \u001b[0m\u001b[34;1m\"open\"\u001b[0m\u001b[1;39m: \u001b[0m\u001b[0;39m118.33\u001b[0m\u001b[1;39m,\n",
            "    \u001b[0m\u001b[34;1m\"high\"\u001b[0m\u001b[1;39m: \u001b[0m\u001b[0;39m118.829\u001b[0m\u001b[1;39m,\n",
            "    \u001b[0m\u001b[34;1m\"low\"\u001b[0m\u001b[1;39m: \u001b[0m\u001b[0;39m113.61\u001b[0m\u001b[1;39m,\n",
            "    \u001b[0m\u001b[34;1m\"close\"\u001b[0m\u001b[1;39m: \u001b[0m\u001b[0;39m115.54\u001b[0m\u001b[1;39m,\n",
            "    \u001b[0m\u001b[34;1m\"volume\"\u001b[0m\u001b[1;39m: \u001b[0m\u001b[0;39m182985051\u001b[0m\u001b[1;39m,\n",
            "    \u001b[0m\u001b[34;1m\"adj_high\"\u001b[0m\u001b[1;39m: \u001b[0m\u001b[0;39m118.829\u001b[0m\u001b[1;39m,\n",
            "    \u001b[0m\u001b[34;1m\"adj_low\"\u001b[0m\u001b[1;39m: \u001b[0m\u001b[0;39m113.61\u001b[0m\u001b[1;39m,\n",
            "    \u001b[0m\u001b[34;1m\"adj_close\"\u001b[0m\u001b[1;39m: \u001b[0m\u001b[0;39m115.54\u001b[0m\u001b[1;39m,\n",
            "    \u001b[0m\u001b[34;1m\"adj_open\"\u001b[0m\u001b[1;39m: \u001b[0m\u001b[0;39m118.33\u001b[0m\u001b[1;39m,\n",
            "    \u001b[0m\u001b[34;1m\"adj_volume\"\u001b[0m\u001b[1;39m: \u001b[0m\u001b[0;39m182985051\u001b[0m\u001b[1;39m,\n",
            "    \u001b[0m\u001b[34;1m\"symbol\"\u001b[0m\u001b[1;39m: \u001b[0m\u001b[0;32m\"AAPL\"\u001b[0m\u001b[1;39m,\n",
            "    \u001b[0m\u001b[34;1m\"exchange\"\u001b[0m\u001b[1;39m: \u001b[0m\u001b[0;32m\"XNAS\"\u001b[0m\u001b[1;39m,\n",
            "    \u001b[0m\u001b[34;1m\"date\"\u001b[0m\u001b[1;39m: \u001b[0m\u001b[0;32m\"2020-09-15T00:00:00+0000\"\u001b[0m\u001b[1;39m\n",
            "  \u001b[1;39m}\u001b[0m\u001b[1;39m,\n",
            "  \u001b[1;39m{\n",
            "    \u001b[0m\u001b[34;1m\"open\"\u001b[0m\u001b[1;39m: \u001b[0m\u001b[0;39m114.72\u001b[0m\u001b[1;39m,\n",
            "    \u001b[0m\u001b[34;1m\"high\"\u001b[0m\u001b[1;39m: \u001b[0m\u001b[0;39m115.93\u001b[0m\u001b[1;39m,\n",
            "    \u001b[0m\u001b[34;1m\"low\"\u001b[0m\u001b[1;39m: \u001b[0m\u001b[0;39m112.8\u001b[0m\u001b[1;39m,\n",
            "    \u001b[0m\u001b[34;1m\"close\"\u001b[0m\u001b[1;39m: \u001b[0m\u001b[0;39m115.355\u001b[0m\u001b[1;39m,\n",
            "    \u001b[0m\u001b[34;1m\"volume\"\u001b[0m\u001b[1;39m: \u001b[0m\u001b[0;39m138248838\u001b[0m\u001b[1;39m,\n",
            "    \u001b[0m\u001b[34;1m\"adj_high\"\u001b[0m\u001b[1;39m: \u001b[0m\u001b[0;39m115.93\u001b[0m\u001b[1;39m,\n",
            "    \u001b[0m\u001b[34;1m\"adj_low\"\u001b[0m\u001b[1;39m: \u001b[0m\u001b[0;39m112.8\u001b[0m\u001b[1;39m,\n",
            "    \u001b[0m\u001b[34;1m\"adj_close\"\u001b[0m\u001b[1;39m: \u001b[0m\u001b[0;39m115.355\u001b[0m\u001b[1;39m,\n",
            "    \u001b[0m\u001b[34;1m\"adj_open\"\u001b[0m\u001b[1;39m: \u001b[0m\u001b[0;39m114.72\u001b[0m\u001b[1;39m,\n",
            "    \u001b[0m\u001b[34;1m\"adj_volume\"\u001b[0m\u001b[1;39m: \u001b[0m\u001b[0;39m138248838\u001b[0m\u001b[1;39m,\n",
            "    \u001b[0m\u001b[34;1m\"symbol\"\u001b[0m\u001b[1;39m: \u001b[0m\u001b[0;32m\"AAPL\"\u001b[0m\u001b[1;39m,\n",
            "    \u001b[0m\u001b[34;1m\"exchange\"\u001b[0m\u001b[1;39m: \u001b[0m\u001b[0;32m\"XNAS\"\u001b[0m\u001b[1;39m,\n",
            "    \u001b[0m\u001b[34;1m\"date\"\u001b[0m\u001b[1;39m: \u001b[0m\u001b[0;32m\"2020-09-14T00:00:00+0000\"\u001b[0m\u001b[1;39m\n",
            "  \u001b[1;39m}\u001b[0m\u001b[1;39m,\n",
            "  \u001b[1;39m{\n",
            "    \u001b[0m\u001b[34;1m\"open\"\u001b[0m\u001b[1;39m: \u001b[0m\u001b[0;39m114.57\u001b[0m\u001b[1;39m,\n",
            "    \u001b[0m\u001b[34;1m\"high\"\u001b[0m\u001b[1;39m: \u001b[0m\u001b[0;39m115.23\u001b[0m\u001b[1;39m,\n",
            "    \u001b[0m\u001b[34;1m\"low\"\u001b[0m\u001b[1;39m: \u001b[0m\u001b[0;39m110\u001b[0m\u001b[1;39m,\n",
            "    \u001b[0m\u001b[34;1m\"close\"\u001b[0m\u001b[1;39m: \u001b[0m\u001b[0;39m112\u001b[0m\u001b[1;39m,\n",
            "    \u001b[0m\u001b[34;1m\"volume\"\u001b[0m\u001b[1;39m: \u001b[0m\u001b[0;39m179376569\u001b[0m\u001b[1;39m,\n",
            "    \u001b[0m\u001b[34;1m\"adj_high\"\u001b[0m\u001b[1;39m: \u001b[0m\u001b[0;39m115.23\u001b[0m\u001b[1;39m,\n",
            "    \u001b[0m\u001b[34;1m\"adj_low\"\u001b[0m\u001b[1;39m: \u001b[0m\u001b[0;39m110\u001b[0m\u001b[1;39m,\n",
            "    \u001b[0m\u001b[34;1m\"adj_close\"\u001b[0m\u001b[1;39m: \u001b[0m\u001b[0;39m112\u001b[0m\u001b[1;39m,\n",
            "    \u001b[0m\u001b[34;1m\"adj_open\"\u001b[0m\u001b[1;39m: \u001b[0m\u001b[0;39m114.57\u001b[0m\u001b[1;39m,\n",
            "    \u001b[0m\u001b[34;1m\"adj_volume\"\u001b[0m\u001b[1;39m: \u001b[0m\u001b[0;39m179376569\u001b[0m\u001b[1;39m,\n",
            "    \u001b[0m\u001b[34;1m\"symbol\"\u001b[0m\u001b[1;39m: \u001b[0m\u001b[0;32m\"AAPL\"\u001b[0m\u001b[1;39m,\n",
            "    \u001b[0m\u001b[34;1m\"exchange\"\u001b[0m\u001b[1;39m: \u001b[0m\u001b[0;32m\"XNAS\"\u001b[0m\u001b[1;39m,\n",
            "    \u001b[0m\u001b[34;1m\"date\"\u001b[0m\u001b[1;39m: \u001b[0m\u001b[0;32m\"2020-09-11T00:00:00+0000\"\u001b[0m\u001b[1;39m\n",
            "  \u001b[1;39m}\u001b[0m\u001b[1;39m,\n",
            "  \u001b[1;39m{\n",
            "    \u001b[0m\u001b[34;1m\"open\"\u001b[0m\u001b[1;39m: \u001b[0m\u001b[0;39m120.36\u001b[0m\u001b[1;39m,\n",
            "    \u001b[0m\u001b[34;1m\"high\"\u001b[0m\u001b[1;39m: \u001b[0m\u001b[0;39m120.5\u001b[0m\u001b[1;39m,\n",
            "    \u001b[0m\u001b[34;1m\"low\"\u001b[0m\u001b[1;39m: \u001b[0m\u001b[0;39m112.5\u001b[0m\u001b[1;39m,\n",
            "    \u001b[0m\u001b[34;1m\"close\"\u001b[0m\u001b[1;39m: \u001b[0m\u001b[0;39m113.49\u001b[0m\u001b[1;39m,\n",
            "    \u001b[0m\u001b[34;1m\"volume\"\u001b[0m\u001b[1;39m: \u001b[0m\u001b[0;39m182274391\u001b[0m\u001b[1;39m,\n",
            "    \u001b[0m\u001b[34;1m\"adj_high\"\u001b[0m\u001b[1;39m: \u001b[0m\u001b[0;39m120.5\u001b[0m\u001b[1;39m,\n",
            "    \u001b[0m\u001b[34;1m\"adj_low\"\u001b[0m\u001b[1;39m: \u001b[0m\u001b[0;39m112.5\u001b[0m\u001b[1;39m,\n",
            "    \u001b[0m\u001b[34;1m\"adj_close\"\u001b[0m\u001b[1;39m: \u001b[0m\u001b[0;39m113.49\u001b[0m\u001b[1;39m,\n",
            "    \u001b[0m\u001b[34;1m\"adj_open\"\u001b[0m\u001b[1;39m: \u001b[0m\u001b[0;39m120.36\u001b[0m\u001b[1;39m,\n",
            "    \u001b[0m\u001b[34;1m\"adj_volume\"\u001b[0m\u001b[1;39m: \u001b[0m\u001b[0;39m182274391\u001b[0m\u001b[1;39m,\n",
            "    \u001b[0m\u001b[34;1m\"symbol\"\u001b[0m\u001b[1;39m: \u001b[0m\u001b[0;32m\"AAPL\"\u001b[0m\u001b[1;39m,\n",
            "    \u001b[0m\u001b[34;1m\"exchange\"\u001b[0m\u001b[1;39m: \u001b[0m\u001b[0;32m\"XNAS\"\u001b[0m\u001b[1;39m,\n",
            "    \u001b[0m\u001b[34;1m\"date\"\u001b[0m\u001b[1;39m: \u001b[0m\u001b[0;32m\"2020-09-10T00:00:00+0000\"\u001b[0m\u001b[1;39m\n",
            "  \u001b[1;39m}\u001b[0m\u001b[1;39m,\n",
            "  \u001b[1;39m{\n",
            "    \u001b[0m\u001b[34;1m\"open\"\u001b[0m\u001b[1;39m: \u001b[0m\u001b[0;39m117.26\u001b[0m\u001b[1;39m,\n",
            "    \u001b[0m\u001b[34;1m\"high\"\u001b[0m\u001b[1;39m: \u001b[0m\u001b[0;39m119.14\u001b[0m\u001b[1;39m,\n",
            "    \u001b[0m\u001b[34;1m\"low\"\u001b[0m\u001b[1;39m: \u001b[0m\u001b[0;39m115.26\u001b[0m\u001b[1;39m,\n",
            "    \u001b[0m\u001b[34;1m\"close\"\u001b[0m\u001b[1;39m: \u001b[0m\u001b[0;39m117.32\u001b[0m\u001b[1;39m,\n",
            "    \u001b[0m\u001b[34;1m\"volume\"\u001b[0m\u001b[1;39m: \u001b[0m\u001b[0;39m172144189\u001b[0m\u001b[1;39m,\n",
            "    \u001b[0m\u001b[34;1m\"adj_high\"\u001b[0m\u001b[1;39m: \u001b[0m\u001b[0;39m119.14\u001b[0m\u001b[1;39m,\n",
            "    \u001b[0m\u001b[34;1m\"adj_low\"\u001b[0m\u001b[1;39m: \u001b[0m\u001b[0;39m115.26\u001b[0m\u001b[1;39m,\n",
            "    \u001b[0m\u001b[34;1m\"adj_close\"\u001b[0m\u001b[1;39m: \u001b[0m\u001b[0;39m117.32\u001b[0m\u001b[1;39m,\n",
            "    \u001b[0m\u001b[34;1m\"adj_open\"\u001b[0m\u001b[1;39m: \u001b[0m\u001b[0;39m117.26\u001b[0m\u001b[1;39m,\n",
            "    \u001b[0m\u001b[34;1m\"adj_volume\"\u001b[0m\u001b[1;39m: \u001b[0m\u001b[0;39m172144189\u001b[0m\u001b[1;39m,\n",
            "    \u001b[0m\u001b[34;1m\"symbol\"\u001b[0m\u001b[1;39m: \u001b[0m\u001b[0;32m\"AAPL\"\u001b[0m\u001b[1;39m,\n",
            "    \u001b[0m\u001b[34;1m\"exchange\"\u001b[0m\u001b[1;39m: \u001b[0m\u001b[0;32m\"XNAS\"\u001b[0m\u001b[1;39m,\n",
            "    \u001b[0m\u001b[34;1m\"date\"\u001b[0m\u001b[1;39m: \u001b[0m\u001b[0;32m\"2020-09-09T00:00:00+0000\"\u001b[0m\u001b[1;39m\n",
            "  \u001b[1;39m}\u001b[0m\u001b[1;39m,\n",
            "  \u001b[1;39m{\n",
            "    \u001b[0m\u001b[34;1m\"open\"\u001b[0m\u001b[1;39m: \u001b[0m\u001b[0;39m113.95\u001b[0m\u001b[1;39m,\n",
            "    \u001b[0m\u001b[34;1m\"high\"\u001b[0m\u001b[1;39m: \u001b[0m\u001b[0;39m118.99\u001b[0m\u001b[1;39m,\n",
            "    \u001b[0m\u001b[34;1m\"low\"\u001b[0m\u001b[1;39m: \u001b[0m\u001b[0;39m112.68\u001b[0m\u001b[1;39m,\n",
            "    \u001b[0m\u001b[34;1m\"close\"\u001b[0m\u001b[1;39m: \u001b[0m\u001b[0;39m112.82\u001b[0m\u001b[1;39m,\n",
            "    \u001b[0m\u001b[34;1m\"volume\"\u001b[0m\u001b[1;39m: \u001b[0m\u001b[0;39m226149287\u001b[0m\u001b[1;39m,\n",
            "    \u001b[0m\u001b[34;1m\"adj_high\"\u001b[0m\u001b[1;39m: \u001b[0m\u001b[0;39m118.99\u001b[0m\u001b[1;39m,\n",
            "    \u001b[0m\u001b[34;1m\"adj_low\"\u001b[0m\u001b[1;39m: \u001b[0m\u001b[0;39m112.68\u001b[0m\u001b[1;39m,\n",
            "    \u001b[0m\u001b[34;1m\"adj_close\"\u001b[0m\u001b[1;39m: \u001b[0m\u001b[0;39m112.82\u001b[0m\u001b[1;39m,\n",
            "    \u001b[0m\u001b[34;1m\"adj_open\"\u001b[0m\u001b[1;39m: \u001b[0m\u001b[0;39m113.95\u001b[0m\u001b[1;39m,\n",
            "    \u001b[0m\u001b[34;1m\"adj_volume\"\u001b[0m\u001b[1;39m: \u001b[0m\u001b[0;39m226149287\u001b[0m\u001b[1;39m,\n",
            "    \u001b[0m\u001b[34;1m\"symbol\"\u001b[0m\u001b[1;39m: \u001b[0m\u001b[0;32m\"AAPL\"\u001b[0m\u001b[1;39m,\n",
            "    \u001b[0m\u001b[34;1m\"exchange\"\u001b[0m\u001b[1;39m: \u001b[0m\u001b[0;32m\"XNAS\"\u001b[0m\u001b[1;39m,\n",
            "    \u001b[0m\u001b[34;1m\"date\"\u001b[0m\u001b[1;39m: \u001b[0m\u001b[0;32m\"2020-09-08T00:00:00+0000\"\u001b[0m\u001b[1;39m\n",
            "  \u001b[1;39m}\u001b[0m\u001b[1;39m,\n",
            "  \u001b[1;39m{\n",
            "    \u001b[0m\u001b[34;1m\"open\"\u001b[0m\u001b[1;39m: \u001b[0m\u001b[0;39m120.07\u001b[0m\u001b[1;39m,\n",
            "    \u001b[0m\u001b[34;1m\"high\"\u001b[0m\u001b[1;39m: \u001b[0m\u001b[0;39m123.7\u001b[0m\u001b[1;39m,\n",
            "    \u001b[0m\u001b[34;1m\"low\"\u001b[0m\u001b[1;39m: \u001b[0m\u001b[0;39m110.89\u001b[0m\u001b[1;39m,\n",
            "    \u001b[0m\u001b[34;1m\"close\"\u001b[0m\u001b[1;39m: \u001b[0m\u001b[0;39m120.96\u001b[0m\u001b[1;39m,\n",
            "    \u001b[0m\u001b[34;1m\"volume\"\u001b[0m\u001b[1;39m: \u001b[0m\u001b[0;39m326926347\u001b[0m\u001b[1;39m,\n",
            "    \u001b[0m\u001b[34;1m\"adj_high\"\u001b[0m\u001b[1;39m: \u001b[0m\u001b[0;39m123.7\u001b[0m\u001b[1;39m,\n",
            "    \u001b[0m\u001b[34;1m\"adj_low\"\u001b[0m\u001b[1;39m: \u001b[0m\u001b[0;39m110.89\u001b[0m\u001b[1;39m,\n",
            "    \u001b[0m\u001b[34;1m\"adj_close\"\u001b[0m\u001b[1;39m: \u001b[0m\u001b[0;39m120.96\u001b[0m\u001b[1;39m,\n",
            "    \u001b[0m\u001b[34;1m\"adj_open\"\u001b[0m\u001b[1;39m: \u001b[0m\u001b[0;39m120.07\u001b[0m\u001b[1;39m,\n",
            "    \u001b[0m\u001b[34;1m\"adj_volume\"\u001b[0m\u001b[1;39m: \u001b[0m\u001b[0;39m326926347\u001b[0m\u001b[1;39m,\n",
            "    \u001b[0m\u001b[34;1m\"symbol\"\u001b[0m\u001b[1;39m: \u001b[0m\u001b[0;32m\"AAPL\"\u001b[0m\u001b[1;39m,\n",
            "    \u001b[0m\u001b[34;1m\"exchange\"\u001b[0m\u001b[1;39m: \u001b[0m\u001b[0;32m\"XNAS\"\u001b[0m\u001b[1;39m,\n",
            "    \u001b[0m\u001b[34;1m\"date\"\u001b[0m\u001b[1;39m: \u001b[0m\u001b[0;32m\"2020-09-04T00:00:00+0000\"\u001b[0m\u001b[1;39m\n",
            "  \u001b[1;39m}\u001b[0m\u001b[1;39m,\n",
            "  \u001b[1;39m{\n",
            "    \u001b[0m\u001b[34;1m\"open\"\u001b[0m\u001b[1;39m: \u001b[0m\u001b[0;39m126.91\u001b[0m\u001b[1;39m,\n",
            "    \u001b[0m\u001b[34;1m\"high\"\u001b[0m\u001b[1;39m: \u001b[0m\u001b[0;39m128.84\u001b[0m\u001b[1;39m,\n",
            "    \u001b[0m\u001b[34;1m\"low\"\u001b[0m\u001b[1;39m: \u001b[0m\u001b[0;39m120.5\u001b[0m\u001b[1;39m,\n",
            "    \u001b[0m\u001b[34;1m\"close\"\u001b[0m\u001b[1;39m: \u001b[0m\u001b[0;39m120.88\u001b[0m\u001b[1;39m,\n",
            "    \u001b[0m\u001b[34;1m\"volume\"\u001b[0m\u001b[1;39m: \u001b[0m\u001b[0;39m250623616\u001b[0m\u001b[1;39m,\n",
            "    \u001b[0m\u001b[34;1m\"adj_high\"\u001b[0m\u001b[1;39m: \u001b[0m\u001b[0;39m128.84\u001b[0m\u001b[1;39m,\n",
            "    \u001b[0m\u001b[34;1m\"adj_low\"\u001b[0m\u001b[1;39m: \u001b[0m\u001b[0;39m120.5\u001b[0m\u001b[1;39m,\n",
            "    \u001b[0m\u001b[34;1m\"adj_close\"\u001b[0m\u001b[1;39m: \u001b[0m\u001b[0;39m120.88\u001b[0m\u001b[1;39m,\n",
            "    \u001b[0m\u001b[34;1m\"adj_open\"\u001b[0m\u001b[1;39m: \u001b[0m\u001b[0;39m126.91\u001b[0m\u001b[1;39m,\n",
            "    \u001b[0m\u001b[34;1m\"adj_volume\"\u001b[0m\u001b[1;39m: \u001b[0m\u001b[0;39m250623616\u001b[0m\u001b[1;39m,\n",
            "    \u001b[0m\u001b[34;1m\"symbol\"\u001b[0m\u001b[1;39m: \u001b[0m\u001b[0;32m\"AAPL\"\u001b[0m\u001b[1;39m,\n",
            "    \u001b[0m\u001b[34;1m\"exchange\"\u001b[0m\u001b[1;39m: \u001b[0m\u001b[0;32m\"XNAS\"\u001b[0m\u001b[1;39m,\n",
            "    \u001b[0m\u001b[34;1m\"date\"\u001b[0m\u001b[1;39m: \u001b[0m\u001b[0;32m\"2020-09-03T00:00:00+0000\"\u001b[0m\u001b[1;39m\n",
            "  \u001b[1;39m}\u001b[0m\u001b[1;39m,\n",
            "  \u001b[1;39m{\n",
            "    \u001b[0m\u001b[34;1m\"open\"\u001b[0m\u001b[1;39m: \u001b[0m\u001b[0;39m137.59\u001b[0m\u001b[1;39m,\n",
            "    \u001b[0m\u001b[34;1m\"high\"\u001b[0m\u001b[1;39m: \u001b[0m\u001b[0;39m137.98\u001b[0m\u001b[1;39m,\n",
            "    \u001b[0m\u001b[34;1m\"low\"\u001b[0m\u001b[1;39m: \u001b[0m\u001b[0;39m127\u001b[0m\u001b[1;39m,\n",
            "    \u001b[0m\u001b[34;1m\"close\"\u001b[0m\u001b[1;39m: \u001b[0m\u001b[0;39m131.4\u001b[0m\u001b[1;39m,\n",
            "    \u001b[0m\u001b[34;1m\"volume\"\u001b[0m\u001b[1;39m: \u001b[0m\u001b[0;39m198233370\u001b[0m\u001b[1;39m,\n",
            "    \u001b[0m\u001b[34;1m\"adj_high\"\u001b[0m\u001b[1;39m: \u001b[0m\u001b[0;39m137.98\u001b[0m\u001b[1;39m,\n",
            "    \u001b[0m\u001b[34;1m\"adj_low\"\u001b[0m\u001b[1;39m: \u001b[0m\u001b[0;39m127\u001b[0m\u001b[1;39m,\n",
            "    \u001b[0m\u001b[34;1m\"adj_close\"\u001b[0m\u001b[1;39m: \u001b[0m\u001b[0;39m131.4\u001b[0m\u001b[1;39m,\n",
            "    \u001b[0m\u001b[34;1m\"adj_open\"\u001b[0m\u001b[1;39m: \u001b[0m\u001b[0;39m137.59\u001b[0m\u001b[1;39m,\n",
            "    \u001b[0m\u001b[34;1m\"adj_volume\"\u001b[0m\u001b[1;39m: \u001b[0m\u001b[0;39m198233370\u001b[0m\u001b[1;39m,\n",
            "    \u001b[0m\u001b[34;1m\"symbol\"\u001b[0m\u001b[1;39m: \u001b[0m\u001b[0;32m\"AAPL\"\u001b[0m\u001b[1;39m,\n",
            "    \u001b[0m\u001b[34;1m\"exchange\"\u001b[0m\u001b[1;39m: \u001b[0m\u001b[0;32m\"XNAS\"\u001b[0m\u001b[1;39m,\n",
            "    \u001b[0m\u001b[34;1m\"date\"\u001b[0m\u001b[1;39m: \u001b[0m\u001b[0;32m\"2020-09-02T00:00:00+0000\"\u001b[0m\u001b[1;39m\n",
            "  \u001b[1;39m}\u001b[0m\u001b[1;39m,\n",
            "  \u001b[1;39m{\n",
            "    \u001b[0m\u001b[34;1m\"open\"\u001b[0m\u001b[1;39m: \u001b[0m\u001b[0;39m132.76\u001b[0m\u001b[1;39m,\n",
            "    \u001b[0m\u001b[34;1m\"high\"\u001b[0m\u001b[1;39m: \u001b[0m\u001b[0;39m134.8\u001b[0m\u001b[1;39m,\n",
            "    \u001b[0m\u001b[34;1m\"low\"\u001b[0m\u001b[1;39m: \u001b[0m\u001b[0;39m130.53\u001b[0m\u001b[1;39m,\n",
            "    \u001b[0m\u001b[34;1m\"close\"\u001b[0m\u001b[1;39m: \u001b[0m\u001b[0;39m134.18\u001b[0m\u001b[1;39m,\n",
            "    \u001b[0m\u001b[34;1m\"volume\"\u001b[0m\u001b[1;39m: \u001b[0m\u001b[0;39m150698946\u001b[0m\u001b[1;39m,\n",
            "    \u001b[0m\u001b[34;1m\"adj_high\"\u001b[0m\u001b[1;39m: \u001b[0m\u001b[0;39m134.8\u001b[0m\u001b[1;39m,\n",
            "    \u001b[0m\u001b[34;1m\"adj_low\"\u001b[0m\u001b[1;39m: \u001b[0m\u001b[0;39m130.53\u001b[0m\u001b[1;39m,\n",
            "    \u001b[0m\u001b[34;1m\"adj_close\"\u001b[0m\u001b[1;39m: \u001b[0m\u001b[0;39m134.18\u001b[0m\u001b[1;39m,\n",
            "    \u001b[0m\u001b[34;1m\"adj_open\"\u001b[0m\u001b[1;39m: \u001b[0m\u001b[0;39m132.76\u001b[0m\u001b[1;39m,\n",
            "    \u001b[0m\u001b[34;1m\"adj_volume\"\u001b[0m\u001b[1;39m: \u001b[0m\u001b[0;39m150698946\u001b[0m\u001b[1;39m,\n",
            "    \u001b[0m\u001b[34;1m\"symbol\"\u001b[0m\u001b[1;39m: \u001b[0m\u001b[0;32m\"AAPL\"\u001b[0m\u001b[1;39m,\n",
            "    \u001b[0m\u001b[34;1m\"exchange\"\u001b[0m\u001b[1;39m: \u001b[0m\u001b[0;32m\"XNAS\"\u001b[0m\u001b[1;39m,\n",
            "    \u001b[0m\u001b[34;1m\"date\"\u001b[0m\u001b[1;39m: \u001b[0m\u001b[0;32m\"2020-09-01T00:00:00+0000\"\u001b[0m\u001b[1;39m\n",
            "  \u001b[1;39m}\u001b[0m\u001b[1;39m\n",
            "\u001b[1;39m]\u001b[0m\n"
          ],
          "name": "stdout"
        }
      ]
    },
    {
      "cell_type": "markdown",
      "metadata": {
        "id": "d2fnjWCxGuOV"
      },
      "source": [
        "As shwon above, we have extracted Apple's daily stock data, including open and close prices, high and low prices, last prices, and volumes in September 2020. Now we need to redirect the \"apple-ticker.json\" file to a new file called \"apple-data.json\" after filtering:"
      ]
    },
    {
      "cell_type": "code",
      "metadata": {
        "id": "sumFjDWL9rVv"
      },
      "source": [
        "!jq '.data'<apple-ticker.json >apple-data.json"
      ],
      "execution_count": null,
      "outputs": []
    },
    {
      "cell_type": "markdown",
      "metadata": {
        "id": "4rvTcEmP15CU"
      },
      "source": [
        "### Data Analysis\n",
        "\n",
        "With the extracted data, we would like to answer this question: \"**When did Apple have the highest open price in September 2020?**\"\n",
        "In order to find the answer, we can use the pandas package to run the analysis:"
      ]
    },
    {
      "cell_type": "code",
      "metadata": {
        "id": "8MqNF2Tj2XZ_"
      },
      "source": [
        "import pandas as pd"
      ],
      "execution_count": null,
      "outputs": []
    },
    {
      "cell_type": "code",
      "metadata": {
        "id": "Gc18Pv1o3NeI",
        "outputId": "52f23afb-944a-42e8-b121-fb39c49e3459",
        "colab": {
          "base_uri": "https://localhost:8080/",
          "height": 638
        }
      },
      "source": [
        "pd.read_json('apple-data.json')"
      ],
      "execution_count": null,
      "outputs": [
        {
          "output_type": "execute_result",
          "data": {
            "text/html": [
              "<div>\n",
              "<style scoped>\n",
              "    .dataframe tbody tr th:only-of-type {\n",
              "        vertical-align: middle;\n",
              "    }\n",
              "\n",
              "    .dataframe tbody tr th {\n",
              "        vertical-align: top;\n",
              "    }\n",
              "\n",
              "    .dataframe thead th {\n",
              "        text-align: right;\n",
              "    }\n",
              "</style>\n",
              "<table border=\"1\" class=\"dataframe\">\n",
              "  <thead>\n",
              "    <tr style=\"text-align: right;\">\n",
              "      <th></th>\n",
              "      <th>open</th>\n",
              "      <th>high</th>\n",
              "      <th>low</th>\n",
              "      <th>close</th>\n",
              "      <th>volume</th>\n",
              "      <th>adj_high</th>\n",
              "      <th>adj_low</th>\n",
              "      <th>adj_close</th>\n",
              "      <th>adj_open</th>\n",
              "      <th>adj_volume</th>\n",
              "      <th>symbol</th>\n",
              "      <th>exchange</th>\n",
              "      <th>date</th>\n",
              "    </tr>\n",
              "  </thead>\n",
              "  <tbody>\n",
              "    <tr>\n",
              "      <th>0</th>\n",
              "      <td>115.01</td>\n",
              "      <td>115.320</td>\n",
              "      <td>112.78</td>\n",
              "      <td>114.960</td>\n",
              "      <td>136441425</td>\n",
              "      <td>115.320</td>\n",
              "      <td>112.78</td>\n",
              "      <td>114.960</td>\n",
              "      <td>115.01</td>\n",
              "      <td>136441425</td>\n",
              "      <td>AAPL</td>\n",
              "      <td>XNAS</td>\n",
              "      <td>2020-09-28 00:00:00+00:00</td>\n",
              "    </tr>\n",
              "    <tr>\n",
              "      <th>1</th>\n",
              "      <td>108.43</td>\n",
              "      <td>112.440</td>\n",
              "      <td>107.67</td>\n",
              "      <td>112.280</td>\n",
              "      <td>149981441</td>\n",
              "      <td>112.440</td>\n",
              "      <td>107.67</td>\n",
              "      <td>112.280</td>\n",
              "      <td>108.43</td>\n",
              "      <td>149981441</td>\n",
              "      <td>AAPL</td>\n",
              "      <td>XNAS</td>\n",
              "      <td>2020-09-25 00:00:00+00:00</td>\n",
              "    </tr>\n",
              "    <tr>\n",
              "      <th>2</th>\n",
              "      <td>105.17</td>\n",
              "      <td>110.250</td>\n",
              "      <td>105.00</td>\n",
              "      <td>108.220</td>\n",
              "      <td>167743349</td>\n",
              "      <td>110.250</td>\n",
              "      <td>105.00</td>\n",
              "      <td>108.220</td>\n",
              "      <td>105.17</td>\n",
              "      <td>167743349</td>\n",
              "      <td>AAPL</td>\n",
              "      <td>XNAS</td>\n",
              "      <td>2020-09-24 00:00:00+00:00</td>\n",
              "    </tr>\n",
              "    <tr>\n",
              "      <th>3</th>\n",
              "      <td>111.62</td>\n",
              "      <td>112.110</td>\n",
              "      <td>106.77</td>\n",
              "      <td>107.120</td>\n",
              "      <td>150718671</td>\n",
              "      <td>112.110</td>\n",
              "      <td>106.77</td>\n",
              "      <td>107.120</td>\n",
              "      <td>111.62</td>\n",
              "      <td>150718671</td>\n",
              "      <td>AAPL</td>\n",
              "      <td>XNAS</td>\n",
              "      <td>2020-09-23 00:00:00+00:00</td>\n",
              "    </tr>\n",
              "    <tr>\n",
              "      <th>4</th>\n",
              "      <td>112.68</td>\n",
              "      <td>112.860</td>\n",
              "      <td>109.16</td>\n",
              "      <td>111.810</td>\n",
              "      <td>183055373</td>\n",
              "      <td>112.860</td>\n",
              "      <td>109.16</td>\n",
              "      <td>111.810</td>\n",
              "      <td>112.68</td>\n",
              "      <td>183055373</td>\n",
              "      <td>AAPL</td>\n",
              "      <td>XNAS</td>\n",
              "      <td>2020-09-22 00:00:00+00:00</td>\n",
              "    </tr>\n",
              "    <tr>\n",
              "      <th>5</th>\n",
              "      <td>104.54</td>\n",
              "      <td>110.190</td>\n",
              "      <td>103.10</td>\n",
              "      <td>110.080</td>\n",
              "      <td>193321297</td>\n",
              "      <td>110.190</td>\n",
              "      <td>103.10</td>\n",
              "      <td>110.080</td>\n",
              "      <td>104.54</td>\n",
              "      <td>193321297</td>\n",
              "      <td>AAPL</td>\n",
              "      <td>XNAS</td>\n",
              "      <td>2020-09-21 00:00:00+00:00</td>\n",
              "    </tr>\n",
              "    <tr>\n",
              "      <th>6</th>\n",
              "      <td>110.40</td>\n",
              "      <td>110.880</td>\n",
              "      <td>106.09</td>\n",
              "      <td>106.840</td>\n",
              "      <td>284477372</td>\n",
              "      <td>110.880</td>\n",
              "      <td>106.09</td>\n",
              "      <td>106.840</td>\n",
              "      <td>110.40</td>\n",
              "      <td>284477372</td>\n",
              "      <td>AAPL</td>\n",
              "      <td>XNAS</td>\n",
              "      <td>2020-09-18 00:00:00+00:00</td>\n",
              "    </tr>\n",
              "    <tr>\n",
              "      <th>7</th>\n",
              "      <td>109.72</td>\n",
              "      <td>112.200</td>\n",
              "      <td>108.71</td>\n",
              "      <td>110.340</td>\n",
              "      <td>176909480</td>\n",
              "      <td>112.200</td>\n",
              "      <td>108.71</td>\n",
              "      <td>110.340</td>\n",
              "      <td>109.72</td>\n",
              "      <td>176909480</td>\n",
              "      <td>AAPL</td>\n",
              "      <td>XNAS</td>\n",
              "      <td>2020-09-17 00:00:00+00:00</td>\n",
              "    </tr>\n",
              "    <tr>\n",
              "      <th>8</th>\n",
              "      <td>115.23</td>\n",
              "      <td>116.000</td>\n",
              "      <td>112.04</td>\n",
              "      <td>112.130</td>\n",
              "      <td>154066350</td>\n",
              "      <td>116.000</td>\n",
              "      <td>112.04</td>\n",
              "      <td>112.130</td>\n",
              "      <td>115.23</td>\n",
              "      <td>154066350</td>\n",
              "      <td>AAPL</td>\n",
              "      <td>XNAS</td>\n",
              "      <td>2020-09-16 00:00:00+00:00</td>\n",
              "    </tr>\n",
              "    <tr>\n",
              "      <th>9</th>\n",
              "      <td>118.33</td>\n",
              "      <td>118.829</td>\n",
              "      <td>113.61</td>\n",
              "      <td>115.540</td>\n",
              "      <td>182985051</td>\n",
              "      <td>118.829</td>\n",
              "      <td>113.61</td>\n",
              "      <td>115.540</td>\n",
              "      <td>118.33</td>\n",
              "      <td>182985051</td>\n",
              "      <td>AAPL</td>\n",
              "      <td>XNAS</td>\n",
              "      <td>2020-09-15 00:00:00+00:00</td>\n",
              "    </tr>\n",
              "    <tr>\n",
              "      <th>10</th>\n",
              "      <td>114.72</td>\n",
              "      <td>115.930</td>\n",
              "      <td>112.80</td>\n",
              "      <td>115.355</td>\n",
              "      <td>138248838</td>\n",
              "      <td>115.930</td>\n",
              "      <td>112.80</td>\n",
              "      <td>115.355</td>\n",
              "      <td>114.72</td>\n",
              "      <td>138248838</td>\n",
              "      <td>AAPL</td>\n",
              "      <td>XNAS</td>\n",
              "      <td>2020-09-14 00:00:00+00:00</td>\n",
              "    </tr>\n",
              "    <tr>\n",
              "      <th>11</th>\n",
              "      <td>114.57</td>\n",
              "      <td>115.230</td>\n",
              "      <td>110.00</td>\n",
              "      <td>112.000</td>\n",
              "      <td>179376569</td>\n",
              "      <td>115.230</td>\n",
              "      <td>110.00</td>\n",
              "      <td>112.000</td>\n",
              "      <td>114.57</td>\n",
              "      <td>179376569</td>\n",
              "      <td>AAPL</td>\n",
              "      <td>XNAS</td>\n",
              "      <td>2020-09-11 00:00:00+00:00</td>\n",
              "    </tr>\n",
              "    <tr>\n",
              "      <th>12</th>\n",
              "      <td>120.36</td>\n",
              "      <td>120.500</td>\n",
              "      <td>112.50</td>\n",
              "      <td>113.490</td>\n",
              "      <td>182274391</td>\n",
              "      <td>120.500</td>\n",
              "      <td>112.50</td>\n",
              "      <td>113.490</td>\n",
              "      <td>120.36</td>\n",
              "      <td>182274391</td>\n",
              "      <td>AAPL</td>\n",
              "      <td>XNAS</td>\n",
              "      <td>2020-09-10 00:00:00+00:00</td>\n",
              "    </tr>\n",
              "    <tr>\n",
              "      <th>13</th>\n",
              "      <td>117.26</td>\n",
              "      <td>119.140</td>\n",
              "      <td>115.26</td>\n",
              "      <td>117.320</td>\n",
              "      <td>172144189</td>\n",
              "      <td>119.140</td>\n",
              "      <td>115.26</td>\n",
              "      <td>117.320</td>\n",
              "      <td>117.26</td>\n",
              "      <td>172144189</td>\n",
              "      <td>AAPL</td>\n",
              "      <td>XNAS</td>\n",
              "      <td>2020-09-09 00:00:00+00:00</td>\n",
              "    </tr>\n",
              "    <tr>\n",
              "      <th>14</th>\n",
              "      <td>113.95</td>\n",
              "      <td>118.990</td>\n",
              "      <td>112.68</td>\n",
              "      <td>112.820</td>\n",
              "      <td>226149287</td>\n",
              "      <td>118.990</td>\n",
              "      <td>112.68</td>\n",
              "      <td>112.820</td>\n",
              "      <td>113.95</td>\n",
              "      <td>226149287</td>\n",
              "      <td>AAPL</td>\n",
              "      <td>XNAS</td>\n",
              "      <td>2020-09-08 00:00:00+00:00</td>\n",
              "    </tr>\n",
              "    <tr>\n",
              "      <th>15</th>\n",
              "      <td>120.07</td>\n",
              "      <td>123.700</td>\n",
              "      <td>110.89</td>\n",
              "      <td>120.960</td>\n",
              "      <td>326926347</td>\n",
              "      <td>123.700</td>\n",
              "      <td>110.89</td>\n",
              "      <td>120.960</td>\n",
              "      <td>120.07</td>\n",
              "      <td>326926347</td>\n",
              "      <td>AAPL</td>\n",
              "      <td>XNAS</td>\n",
              "      <td>2020-09-04 00:00:00+00:00</td>\n",
              "    </tr>\n",
              "    <tr>\n",
              "      <th>16</th>\n",
              "      <td>126.91</td>\n",
              "      <td>128.840</td>\n",
              "      <td>120.50</td>\n",
              "      <td>120.880</td>\n",
              "      <td>250623616</td>\n",
              "      <td>128.840</td>\n",
              "      <td>120.50</td>\n",
              "      <td>120.880</td>\n",
              "      <td>126.91</td>\n",
              "      <td>250623616</td>\n",
              "      <td>AAPL</td>\n",
              "      <td>XNAS</td>\n",
              "      <td>2020-09-03 00:00:00+00:00</td>\n",
              "    </tr>\n",
              "    <tr>\n",
              "      <th>17</th>\n",
              "      <td>137.59</td>\n",
              "      <td>137.980</td>\n",
              "      <td>127.00</td>\n",
              "      <td>131.400</td>\n",
              "      <td>198233370</td>\n",
              "      <td>137.980</td>\n",
              "      <td>127.00</td>\n",
              "      <td>131.400</td>\n",
              "      <td>137.59</td>\n",
              "      <td>198233370</td>\n",
              "      <td>AAPL</td>\n",
              "      <td>XNAS</td>\n",
              "      <td>2020-09-02 00:00:00+00:00</td>\n",
              "    </tr>\n",
              "    <tr>\n",
              "      <th>18</th>\n",
              "      <td>132.76</td>\n",
              "      <td>134.800</td>\n",
              "      <td>130.53</td>\n",
              "      <td>134.180</td>\n",
              "      <td>150698946</td>\n",
              "      <td>134.800</td>\n",
              "      <td>130.53</td>\n",
              "      <td>134.180</td>\n",
              "      <td>132.76</td>\n",
              "      <td>150698946</td>\n",
              "      <td>AAPL</td>\n",
              "      <td>XNAS</td>\n",
              "      <td>2020-09-01 00:00:00+00:00</td>\n",
              "    </tr>\n",
              "  </tbody>\n",
              "</table>\n",
              "</div>"
            ],
            "text/plain": [
              "      open     high     low  ...  symbol  exchange                      date\n",
              "0   115.01  115.320  112.78  ...    AAPL      XNAS 2020-09-28 00:00:00+00:00\n",
              "1   108.43  112.440  107.67  ...    AAPL      XNAS 2020-09-25 00:00:00+00:00\n",
              "2   105.17  110.250  105.00  ...    AAPL      XNAS 2020-09-24 00:00:00+00:00\n",
              "3   111.62  112.110  106.77  ...    AAPL      XNAS 2020-09-23 00:00:00+00:00\n",
              "4   112.68  112.860  109.16  ...    AAPL      XNAS 2020-09-22 00:00:00+00:00\n",
              "5   104.54  110.190  103.10  ...    AAPL      XNAS 2020-09-21 00:00:00+00:00\n",
              "6   110.40  110.880  106.09  ...    AAPL      XNAS 2020-09-18 00:00:00+00:00\n",
              "7   109.72  112.200  108.71  ...    AAPL      XNAS 2020-09-17 00:00:00+00:00\n",
              "8   115.23  116.000  112.04  ...    AAPL      XNAS 2020-09-16 00:00:00+00:00\n",
              "9   118.33  118.829  113.61  ...    AAPL      XNAS 2020-09-15 00:00:00+00:00\n",
              "10  114.72  115.930  112.80  ...    AAPL      XNAS 2020-09-14 00:00:00+00:00\n",
              "11  114.57  115.230  110.00  ...    AAPL      XNAS 2020-09-11 00:00:00+00:00\n",
              "12  120.36  120.500  112.50  ...    AAPL      XNAS 2020-09-10 00:00:00+00:00\n",
              "13  117.26  119.140  115.26  ...    AAPL      XNAS 2020-09-09 00:00:00+00:00\n",
              "14  113.95  118.990  112.68  ...    AAPL      XNAS 2020-09-08 00:00:00+00:00\n",
              "15  120.07  123.700  110.89  ...    AAPL      XNAS 2020-09-04 00:00:00+00:00\n",
              "16  126.91  128.840  120.50  ...    AAPL      XNAS 2020-09-03 00:00:00+00:00\n",
              "17  137.59  137.980  127.00  ...    AAPL      XNAS 2020-09-02 00:00:00+00:00\n",
              "18  132.76  134.800  130.53  ...    AAPL      XNAS 2020-09-01 00:00:00+00:00\n",
              "\n",
              "[19 rows x 13 columns]"
            ]
          },
          "metadata": {
            "tags": []
          },
          "execution_count": 125
        }
      ]
    },
    {
      "cell_type": "markdown",
      "metadata": {
        "id": "xMw-eRx2-ppi"
      },
      "source": [
        "Save the dataframe above as a Python variable called df:"
      ]
    },
    {
      "cell_type": "code",
      "metadata": {
        "id": "jqgmPOuM9FqV"
      },
      "source": [
        "df=pd.read_json('apple-data.json')"
      ],
      "execution_count": null,
      "outputs": []
    },
    {
      "cell_type": "markdown",
      "metadata": {
        "id": "kYHTyNaM-zHb"
      },
      "source": [
        "Now we can analyze the dataframe using pandas commands. Since we're interested in learning the date when Apple had the highest open price in September, we can run the following command:"
      ]
    },
    {
      "cell_type": "code",
      "metadata": {
        "id": "3z4r1tcm_RoH",
        "outputId": "69369629-40eb-4195-c5b5-b3a71b16daf6",
        "colab": {
          "base_uri": "https://localhost:8080/",
          "height": 255
        }
      },
      "source": [
        "df.iloc[df['open'].idxmax()]"
      ],
      "execution_count": null,
      "outputs": [
        {
          "output_type": "execute_result",
          "data": {
            "text/plain": [
              "open                             137.59\n",
              "high                             137.98\n",
              "low                                 127\n",
              "close                             131.4\n",
              "volume                        198233370\n",
              "adj_high                         137.98\n",
              "adj_low                             127\n",
              "adj_close                         131.4\n",
              "adj_open                         137.59\n",
              "adj_volume                    198233370\n",
              "symbol                             AAPL\n",
              "exchange                           XNAS\n",
              "date          2020-09-02 00:00:00+00:00\n",
              "Name: 17, dtype: object"
            ]
          },
          "metadata": {
            "tags": []
          },
          "execution_count": 127
        }
      ]
    },
    {
      "cell_type": "markdown",
      "metadata": {
        "id": "WmGvx0ZDA53z"
      },
      "source": [
        "Based on the information above, we know that Apple had the highest open price, which is $137.59, on September 2 this month."
      ]
    },
    {
      "cell_type": "markdown",
      "metadata": {
        "id": "SCKWrIAM_IXR"
      },
      "source": [
        "# Question 5\n",
        "\n"
      ]
    },
    {
      "cell_type": "code",
      "metadata": {
        "id": "oSPyDEWniQ8n",
        "outputId": "a2e248b6-151b-40ad-97b3-eb0de3c65ba1",
        "colab": {
          "base_uri": "https://localhost:8080/",
          "height": 204
        }
      },
      "source": [
        "## Import the book\n",
        "!wget -O aliceinwonder.txt https://www.gutenberg.org/files/11/11-0.txt "
      ],
      "execution_count": null,
      "outputs": [
        {
          "output_type": "stream",
          "text": [
            "--2020-09-29 20:30:34--  https://www.gutenberg.org/files/11/11-0.txt\n",
            "Resolving www.gutenberg.org (www.gutenberg.org)... 152.19.134.47, 2610:28:3090:3000:0:bad:cafe:47\n",
            "Connecting to www.gutenberg.org (www.gutenberg.org)|152.19.134.47|:443... connected.\n",
            "HTTP request sent, awaiting response... 200 OK\n",
            "Length: 174484 (170K) [text/plain]\n",
            "Saving to: ‘aliceinwonder.txt’\n",
            "\n",
            "aliceinwonder.txt   100%[===================>] 170.39K  1.01MB/s    in 0.2s    \n",
            "\n",
            "2020-09-29 20:30:34 (1.01 MB/s) - ‘aliceinwonder.txt’ saved [174484/174484]\n",
            "\n"
          ],
          "name": "stdout"
        }
      ]
    },
    {
      "cell_type": "code",
      "metadata": {
        "id": "gqLxLE0yiTnS"
      },
      "source": [
        "## Open the text file\n",
        "f = open(\"aliceinwonder.txt\", \"r\").read()\n",
        "all_words = f.split()"
      ],
      "execution_count": null,
      "outputs": []
    },
    {
      "cell_type": "code",
      "metadata": {
        "id": "ktcRDrcUiaG8"
      },
      "source": [
        "counts = []\n",
        "for i in range(len(all_words)):\n",
        "    counts.append(all_words.count(all_words[i]))"
      ],
      "execution_count": null,
      "outputs": []
    },
    {
      "cell_type": "code",
      "metadata": {
        "id": "hK301N2KinX3"
      },
      "source": [
        "## Create dictionary\n",
        "d = dict(zip(all_words, counts))"
      ],
      "execution_count": null,
      "outputs": []
    },
    {
      "cell_type": "code",
      "metadata": {
        "id": "l9KY3xioiqi2"
      },
      "source": [
        "import collections\n",
        "counter = collections.Counter(d)\n",
        "common = counter.most_common(20)"
      ],
      "execution_count": null,
      "outputs": []
    },
    {
      "cell_type": "code",
      "metadata": {
        "id": "dtVx2ar-qApA"
      },
      "source": [
        "import pandas as pd\n",
        "import matplotlib.pyplot as plt"
      ],
      "execution_count": null,
      "outputs": []
    },
    {
      "cell_type": "code",
      "metadata": {
        "id": "mrEWyN2nisiZ",
        "outputId": "d18f13fe-9d3e-4c25-a43a-5ec4348d02d8",
        "colab": {
          "base_uri": "https://localhost:8080/",
          "height": 54
        }
      },
      "source": [
        "print(common)"
      ],
      "execution_count": null,
      "outputs": [
        {
          "output_type": "stream",
          "text": [
            "[('the', 1677), ('and', 786), ('to', 777), ('a', 667), ('of', 602), ('she', 485), ('said', 416), ('in', 406), ('it', 357), ('was', 329), ('you', 303), ('I', 249), ('as', 246), ('that', 226), ('Alice', 221), ('with', 215), ('at', 209), ('her', 204), ('had', 176), ('all', 169)]\n"
          ],
          "name": "stdout"
        }
      ]
    },
    {
      "cell_type": "code",
      "metadata": {
        "id": "wPyu9Nhpiuws",
        "outputId": "499a72a4-a1f2-48cf-bd5f-463b104cc167",
        "colab": {
          "base_uri": "https://localhost:8080/",
          "height": 296
        }
      },
      "source": [
        "common_words = pd.DataFrame(common, columns = ['Word', 'Count'])\n",
        "common_words['Count_Up'] = common_words.Count + 300\n",
        "\n",
        "plt.bar(common_words.Word, common_words.Count, width = 0.9)\n",
        "common_words.set_index('Word')['Count_Up'].plot()"
      ],
      "execution_count": null,
      "outputs": [
        {
          "output_type": "execute_result",
          "data": {
            "text/plain": [
              "<matplotlib.axes._subplots.AxesSubplot at 0x7f76f2a670f0>"
            ]
          },
          "metadata": {
            "tags": []
          },
          "execution_count": 136
        },
        {
          "output_type": "display_data",
          "data": {
            "image/png": "[encoded data removed]",
            "text/plain": [
              "<Figure size 432x288 with 1 Axes>"
            ]
          },
          "metadata": {
            "tags": [],
            "needs_background": "light"
          }
        }
      ]
    },
    {
      "cell_type": "markdown",
      "metadata": {
        "id": "g1egR7dvsQUK"
      },
      "source": [
        "**Interpretation of results**     \n",
        "According to the definition of Zipf distribution, given some corpus of natural language utterances, the frequency of any word is inversely proportional to its rank in the frequency table. In other words, if we look at the 20 most frequently used words in a book, we would expect to see a Zipf distribution in which the most frequent word will occur approximately twice as often as the second most frequent word, three times as often as the third most frequent word, etc.     \n",
        "Here as shown in our graph, the most frequent word in *Alice's Adventures in Wonderland* is \"the\", which occurs 1677 times in the book. The second most frequent word is \"and\", which occurs 786 times, and the third most frequent word is \"to\", which occurs 777 times. The numerical relationship between 1677 and 786 satisfies the standard of a Zipf distribution, but the relationship between 786 and 777 does not. Therefore, we can tell that this is nearly an imperfect Zipf distribution, but it is not a strict Zipf distribution."
      ]
    }
  ]
}